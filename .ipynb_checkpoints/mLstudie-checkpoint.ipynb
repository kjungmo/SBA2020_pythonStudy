{
 "cells": [
  {
   "cell_type": "markdown",
   "metadata": {},
   "source": [
    "### Machine/Deep learning\n",
    "\n",
    "* 알파고 AlphaGo\n",
    "* 정말 인공지능이란 무엇인가? 인간만이 할 수 있다고 알았던 직관적인 결정을 인공지능도 할 수 있는가?\n",
    "\n",
    "Dr. Andrew Ng\n",
    "> 의사결정을 내려야 할 때 머신러닝으로서 빠르고 정확하게 내릴 수 있다면?\n",
    "> 다른 사람보다 앞서나갈 것이다\n",
    "\n",
    "* Basic understanding of machine learning algorithms\n",
    "    - Linear regression, Logistic regression (classification)\n",
    "    - Neural networks, Convolutional Nural Network, Recurrent Neural Network\n",
    "    \n",
    "* Solve your problems using machine learning tools\n",
    "    - tensor flow, pytorch\n",
    "    \n",
    " ![image](https://user-images.githubusercontent.com/63198352/89428470-62fc3f80-d777-11ea-8947-7e5f98801da2.png)\n",
    "\n",
    "    "
   ]
  },
  {
   "cell_type": "markdown",
   "metadata": {},
   "source": [
    "# ML lec 01 - 기본적인 Machine Learning 의 용어와 개념 설명 \n",
    "\n",
    "## Machine Learning\n",
    "\n",
    "* 머신러닝은 일종의 소프트웨어다\n",
    "    - explicit programming\n",
    "    - spam filter : many rules / automatic driving : too many rules\n",
    "    - Arthur Samuel 1959 - Field of study that gives computers the ability to learn without being explicitly programmed\n",
    "    \n",
    "### Supervised / Unsupervised learning\n",
    "\n",
    "* 지도학습 : 정해져있는 데이터(labled, training set)을 가지고 학습을 하는것을 말함. ex> 고양이 이미지 강아지 이미지 모아서 주고 학습시킴 (cat, dog label)\n",
    "* 비지도학습 : 유사한 것들 끼리 그룹핑. 데이터를 보고 스스로 학습한다. ex) word clustering\n",
    "\n",
    "주로 supervised learning 다룰 예정이다.\n",
    "    - image labeling\n",
    "    - email spam filter\n",
    "    - predicting exam score\n",
    "\n",
    "### Training data set\n",
    "\n",
    "* 어떤 값이 정해져 있다. 값의 특징을 가진 데이터를 가지고 학습한 레이블을 학습한다. 그럼 모델이 생겨난다. 이때 모르는 x(test)를 넣었을 때 ML한테 물어봐서 답을 얻어내는 것이 Supervised learning이다\n",
    "* AlphaGo도 바둑 기보를 학습했다. 이세돌과 바둑을 두면서 이세돌의 test값에 대한 답을 내줬던 것이다\n",
    "\n",
    "### Types of supervised learning\n",
    "\n",
    "* predicting final exam score based on time spent\n",
    "    - regression\n",
    "* pass/ non-pass based on time spent\n",
    "    - binary classification\n",
    "* letter grade (A, B, C, D and F) based on time spent\n",
    "    - multi-label classification\n",
    "    \n",
    "학습 데이터가 필요하다!\n"
   ]
  },
  {
   "cell_type": "markdown",
   "metadata": {},
   "source": [
    "# ML lec 02 - Linear Regression의 Hypothesis 와 cost 설명\n",
    "\n",
    "## predicting exam score:\n",
    "    \n",
    "    "
   ]
  },
  {
   "cell_type": "code",
   "execution_count": null,
   "metadata": {},
   "outputs": [],
   "source": []
  }
 ],
 "metadata": {
  "kernelspec": {
   "display_name": "Python 3",
   "language": "python",
   "name": "python3"
  },
  "language_info": {
   "codemirror_mode": {
    "name": "ipython",
    "version": 3
   },
   "file_extension": ".py",
   "mimetype": "text/x-python",
   "name": "python",
   "nbconvert_exporter": "python",
   "pygments_lexer": "ipython3",
   "version": "3.8.3"
  }
 },
 "nbformat": 4,
 "nbformat_minor": 4
}
