{
 "cells": [
  {
   "cell_type": "markdown",
   "metadata": {},
   "source": [
    "### Machine/Deep learning\n",
    "\n",
    "* 알파고 AlphaGo\n",
    "* 정말 인공지능이란 무엇인가? 인간만이 할 수 있다고 알았던 직관적인 결정을 인공지능도 할 수 있는가?\n",
    "\n",
    "Dr. Andrew Ng\n",
    "> 의사결정을 내려야 할 때 머신러닝으로서 빠르고 정확하게 내릴 수 있다면?\n",
    "> 다른 사람보다 앞서나갈 것이다\n",
    "\n",
    "* Basic understanding of machine learning algorithms\n",
    "    - Linear regression, Logistic regression (classification)\n",
    "    - Neural networks, Convolutional Nural Network, Recurrent Neural Network\n",
    "    \n",
    "* Solve your problems using machine learning tools\n",
    "    - tensor flow, pytorch\n",
    "    \n",
    " ![image](https://user-images.githubusercontent.com/63198352/89428470-62fc3f80-d777-11ea-8947-7e5f98801da2.png)\n",
    "\n",
    "    "
   ]
  },
  {
   "cell_type": "markdown",
   "metadata": {},
   "source": [
    "# ML lec 01 - 기본적인 Machine Learning 의 용어와 개념 설명 \n",
    "\n",
    "## Machine Learning\n",
    "\n",
    "* 머신러닝은 일종의 소프트웨어다\n",
    "    - explicit programming\n",
    "    - spam filter : many rules / automatic driving : too many rules\n",
    "    - Arthur Samuel 1959 - Field of study that gives computers the ability to learn without being explicitly programmed\n",
    "    \n",
    "### Supervised / Unsupervised learning\n",
    "\n",
    "* 지도학습 : 정해져있는 데이터(labled, training set)을 가지고 학습을 하는것을 말함. ex> 고양이 이미지 강아지 이미지 모아서 주고 학습시킴 (cat, dog label)\n",
    "* 비지도학습 : 유사한 것들 끼리 그룹핑. 데이터를 보고 스스로 학습한다. ex) word clustering\n",
    "\n",
    "주로 supervised learning 다룰 예정이다.\n",
    "    - image labeling\n",
    "    - email spam filter\n",
    "    - predicting exam score\n",
    "\n",
    "### Training data set\n",
    "\n",
    "* 어떤 값이 정해져 있다. 값의 특징을 가진 데이터를 가지고 학습한 레이블을 학습한다. 그럼 모델이 생겨난다. 이때 모르는 x(test)를 넣었을 때 ML한테 물어봐서 답을 얻어내는 것이 Supervised learning이다\n",
    "* AlphaGo도 바둑 기보를 학습했다. 이세돌과 바둑을 두면서 이세돌의 test값에 대한 답을 내줬던 것이다\n",
    "\n",
    "### Types of supervised learning\n",
    "\n",
    "* predicting final exam score based on time spent\n",
    "    - regression\n",
    "* pass/ non-pass based on time spent\n",
    "    - binary classification\n",
    "* letter grade (A, B, C, D and F) based on time spent\n",
    "    - multi-label classification\n",
    "    \n",
    "학습 데이터가 필요하다!\n"
   ]
  },
  {
   "cell_type": "markdown",
   "metadata": {},
   "source": [
    "# ML lec 02 - Linear Regression의 Hypothesis 와 cost 설명\n",
    "\n",
    "## Predicting exam score:\n",
    "### regression 회귀\n",
    "    - 회귀 모델에서 말하는 회귀의 의미를 이해하려면 무엇이 어디로 회귀하는 것인지 아는 것이 중요. 골턴 \" 평균으로의 회귀\"를 예로 들며 데이터가 회귀 모델이 제시한 추세선으로 회귀하는 것\"이라고 설명\n",
    "학습된 데이터를 기반으로 입력된 값에 따른 값을 도축\n",
    "\n",
    "## Regression (data)\n",
    "### 트레이닝 데이터를 가지고 Regression model을 만들고자 한다\n",
    "* 세상의 많은 현상들이 Linear하게 설명될 수 있는 것들이 많다.\n",
    "* Linear한 선을 찾는것, data에 따라. data에 잘 맞는!\n",
    "* 여러 선을 2차원에서 나타내는 것\n",
    "    - H(x) = Wx + b\n",
    "* 이렇게 나타난 선들 중에서 데이터에 가장 잘 맞는 선인가?\n",
    "    - 가장 최적의 W 와 b 값을 찾고자 한다\n",
    "* 어떤 Hypothesis가 가장 좋은가?\n",
    "    - 실제 데이터와 linear 사이의 거리가 가까울 수록 좋다\n",
    "    - 거리를 계산한다\n",
    "* 거리를 측정하는 것을 Linear regression에서는 Cost function(Loss function)이라고 한다\n",
    "    - 우리가 세운 가설과 데이터가 얼마나 다른지 보고자 하는 것이다. \n",
    "    - H(x) - y  => 이 경우 음수가 나올 수도 있어서 부적합\n",
    "    - ( H(x) - y ) ^  => 제곱을 하게 되면 부호와 상관없이 차이의 값을 극대화 시켜 두드러지게 해줌\n",
    "    - cost function은 \n",
    "![image](https://user-images.githubusercontent.com/63198352/89545864-dae16d00-d83e-11ea-8cd9-75953e4be1ff.png)\n",
    "\n",
    "\n",
    "![image](https://user-images.githubusercontent.com/63198352/89545884-e2087b00-d83e-11ea-9427-eb1e9f6beb45.png)\n",
    "    \n",
    "    "
   ]
  },
  {
   "cell_type": "markdown",
   "metadata": {},
   "source": [
    "# ML lec 03 - Linear Regression의 cost 최소화 알고리즘의 원리 설명\n",
    "\n",
    "## Hypothesis and Cost\n",
    "\n",
    "![image](https://user-images.githubusercontent.com/63198352/89546401-8985ad80-d83f-11ea-8464-a703c3226812.png)\n",
    "\n",
    "## Gradient descent algorithm\n",
    "\n",
    "* 경사 하강법\n",
    "\n",
    "* 미분한 것 \n",
    "![image](https://user-images.githubusercontent.com/63198352/89549143-e6369780-d842-11ea-9ba6-c6b85026761b.png)\n",
    "\n",
    "## Convex function\n",
    "\n",
    "* 중요한 점\n",
    "    -  cost(W, b) 설계시 반드시 cost function의 모양이 convex function이 되는지 확인해야 한다!\n",
    "    ![image](https://user-images.githubusercontent.com/63198352/89549501-58a77780-d843-11ea-8e12-40866a85d22b.png)"
   ]
  },
  {
   "cell_type": "markdown",
   "metadata": {},
   "source": [
    "### 미분 배울 때 극한 개념 사용. 미분으로 loss를 0으로 수렴시키고자 한다. 완전 0이 될 수 없기 때문에. \n",
    "실제로 accuracy = 0.99978893... etc \n",
    "이런것으로 판단(?) 하게 된다. \n",
    "-> 그것이 왜 cost function을 해야하는 가를 나타낸다. \n",
    "\n",
    "### 가중치  , 신경망\n"
   ]
  },
  {
   "cell_type": "markdown",
   "metadata": {},
   "source": [
    "# ML lec 04 - multi-variable linear regression (*new)\n",
    "\n",
    "## Recap\n",
    "* H( ... ) 라는 가설을 세워야 한다\n",
    "* cost function \n",
    "\n",
    "\n",
    "![image](https://user-images.githubusercontent.com/63198352/89711182-98956880-d9c3-11ea-94b6-da4763cc72a7.png)\n",
    "\n",
    "![image](https://user-images.githubusercontent.com/63198352/89711190-a814b180-d9c3-11ea-8675-c9791a792b57.png)\n",
    "\n",
    "![image](https://user-images.githubusercontent.com/63198352/89711210-c24e8f80-d9c3-11ea-90bb-37c4862f22ef.png)\n",
    "\n",
    "![image](https://user-images.githubusercontent.com/63198352/89711218-cbd7f780-d9c3-11ea-9182-e302a75793fb.png)\n",
    "\n",
    "![image](https://user-images.githubusercontent.com/63198352/89711248-05106780-d9c4-11ea-8310-6aca0347f91a.png)\n",
    "\n",
    "![image](https://user-images.githubusercontent.com/63198352/89711243-f5911e80-d9c3-11ea-901f-9069e515657d.png)\n",
    "\n",
    "![image](https://user-images.githubusercontent.com/63198352/89711277-35f09c80-d9c4-11ea-8379-3abf5debb763.png)\n",
    "\n"
   ]
  },
  {
   "cell_type": "markdown",
   "metadata": {},
   "source": [
    "![image](https://user-images.githubusercontent.com/63198352/89711298-54569800-d9c4-11ea-9425-164f8717ca46.png)\n",
    "\n"
   ]
  },
  {
   "cell_type": "markdown",
   "metadata": {},
   "source": [
    "![image](https://user-images.githubusercontent.com/63198352/89711277-35f09c80-d9c4-11ea-8379-3abf5debb763.png)"
   ]
  },
  {
   "cell_type": "markdown",
   "metadata": {},
   "source": [
    "![image](https://user-images.githubusercontent.com/63198352/89711182-98956880-d9c3-11ea-94b6-da4763cc72a7.png)\n",
    "\n",
    "![image](https://user-images.githubusercontent.com/63198352/89711190-a814b180-d9c3-11ea-8675-c9791a792b57.png)\n",
    "\n",
    "![image](https://user-images.githubusercontent.com/63198352/89711210-c24e8f80-d9c3-11ea-90bb-37c4862f22ef.png)\n",
    "\n",
    "![image](https://user-images.githubusercontent.com/63198352/89711218-cbd7f780-d9c3-11ea-9182-e302a75793fb.png)\n",
    "\n",
    "![image](https://user-images.githubusercontent.com/63198352/89711248-05106780-d9c4-11ea-8310-6aca0347f91a.png)\n",
    "\n",
    "![image](https://user-images.githubusercontent.com/63198352/89711243-f5911e80-d9c3-11ea-901f-9069e515657d.png)\n",
    "\n",
    "![image](https://user-images.githubusercontent.com/63198352/89711277-35f09c80-d9c4-11ea-8379-3abf5debb763.png)\n",
    "\n",
    "![image](https://user-images.githubusercontent.com/63198352/89711298-54569800-d9c4-11ea-9425-164f8717ca46.png)\n",
    "\n",
    "![image](https://user-images.githubusercontent.com/63198352/89711326-a0a1d800-d9c4-11ea-8d4a-212afea25c2a.png)\n",
    "\n",
    "![image](https://user-images.githubusercontent.com/63198352/89711359-c9c26880-d9c4-11ea-8102-1eb357fcdd8a.png)\n",
    "\n",
    "![image](https://user-images.githubusercontent.com/63198352/89711377-eced1800-d9c4-11ea-81b3-50c4a6b34d0e.png)\n",
    "\n",
    "![image](https://user-images.githubusercontent.com/63198352/89711401-0b531380-d9c5-11ea-8bb4-b11853f704dc.png)\n",
    "\n",
    "![image](https://user-images.githubusercontent.com/63198352/89711414-245bc480-d9c5-11ea-8634-2ea0c0f2c228.png)\n",
    "\n",
    "![image](https://user-images.githubusercontent.com/63198352/89711434-363d6780-d9c5-11ea-9c7b-59c06f8a3615.png)\n",
    "\n",
    "![image](https://user-images.githubusercontent.com/63198352/89711438-3e95a280-d9c5-11ea-969f-42c64256a566.png)\n",
    "\n",
    "![image](https://user-images.githubusercontent.com/63198352/89711458-5f5df800-d9c5-11ea-96a1-49e127e8b78e.png)\n",
    "\n"
   ]
  },
  {
   "cell_type": "code",
   "execution_count": null,
   "metadata": {},
   "outputs": [],
   "source": []
  }
 ],
 "metadata": {
  "kernelspec": {
   "display_name": "Python 3",
   "language": "python",
   "name": "python3"
  },
  "language_info": {
   "codemirror_mode": {
    "name": "ipython",
    "version": 3
   },
   "file_extension": ".py",
   "mimetype": "text/x-python",
   "name": "python",
   "nbconvert_exporter": "python",
   "pygments_lexer": "ipython3",
   "version": "3.8.3"
  }
 },
 "nbformat": 4,
 "nbformat_minor": 4
}
