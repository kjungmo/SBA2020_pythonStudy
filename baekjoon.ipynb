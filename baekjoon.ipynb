{
 "cells": [
  {
   "cell_type": "code",
   "execution_count": 35,
   "metadata": {},
   "outputs": [
    {
     "ename": "AttributeError",
     "evalue": "'Calculator' object has no attribute 'CalMul'",
     "output_type": "error",
     "traceback": [
      "\u001b[1;31m---------------------------------------------------------------------------\u001b[0m",
      "\u001b[1;31mAttributeError\u001b[0m                            Traceback (most recent call last)",
      "\u001b[1;32m<ipython-input-35-76ec7e51cad1>\u001b[0m in \u001b[0;36m<module>\u001b[1;34m\u001b[0m\n\u001b[0;32m     24\u001b[0m \u001b[1;33m\u001b[0m\u001b[0m\n\u001b[0;32m     25\u001b[0m \u001b[0ma\u001b[0m \u001b[1;33m=\u001b[0m \u001b[0mCalculator\u001b[0m\u001b[1;33m(\u001b[0m\u001b[1;33m)\u001b[0m\u001b[1;33m\u001b[0m\u001b[1;33m\u001b[0m\u001b[0m\n\u001b[1;32m---> 26\u001b[1;33m \u001b[0ma\u001b[0m\u001b[1;33m.\u001b[0m\u001b[0mCalMul\u001b[0m\u001b[1;33m(\u001b[0m\u001b[1;36m432\u001b[0m\u001b[1;33m,\u001b[0m \u001b[1;36m342\u001b[0m\u001b[1;33m)\u001b[0m\u001b[1;33m\u001b[0m\u001b[1;33m\u001b[0m\u001b[0m\n\u001b[0m",
      "\u001b[1;31mAttributeError\u001b[0m: 'Calculator' object has no attribute 'CalMul'"
     ]
    }
   ],
   "source": [
    "class Calculator():\n",
    "    def __init__(self, num1=0, num2=0):\n",
    "        self.num1 = num1\n",
    "        self.num2 = num2\n",
    "\n",
    "\n",
    "    \n",
    "        \n",
    "class CalAdd(Calculator):\n",
    "    result = 0\n",
    "    def Add(num1, num2):\n",
    "        result = num1, num2\n",
    "        return result\n",
    "    \n",
    "class CalMul(Calculator):\n",
    "    result = 0\n",
    "    def Mul(num1, num2):\n",
    "        str(num1, num2)\n",
    "        list = str(num1, num2)\n",
    "        print(list)\n",
    "        result = num1 * num2\n",
    "        return result\n",
    "\n",
    "    \n",
    "a = Calculator()\n",
    "a.CalMul(432, 342)"
   ]
  },
  {
   "cell_type": "code",
   "execution_count": 37,
   "metadata": {},
   "outputs": [
    {
     "data": {
      "text/plain": [
       "'4'"
      ]
     },
     "execution_count": 37,
     "metadata": {},
     "output_type": "execute_result"
    }
   ],
   "source": [
    "num1 = 472\n",
    "str1 = str(num1)\n",
    "str1[0]"
   ]
  },
  {
   "cell_type": "code",
   "execution_count": 42,
   "metadata": {},
   "outputs": [
    {
     "name": "stdout",
     "output_type": "stream",
     "text": [
      "2360\n",
      "3776\n",
      "1416\n",
      "181720\n"
     ]
    }
   ],
   "source": [
    "def Cal(num1, num2):\n",
    "    n1 = num1\n",
    "    n2 = num2\n",
    "    str1 = str(num1)\n",
    "    str2 = str(num2)\n",
    "    ni1 = int(str1[2])\n",
    "#     nl1 = list(str1)\n",
    "#     nl2 = list(str2)\n",
    "    print(int(str2[2]) * n1)\n",
    "    print(int(str2[1]) * n1)\n",
    "    print(int(str2[0]) * n1)\n",
    "    print(num1 * num2)\n",
    "Cal(472, 385)"
   ]
  },
  {
   "cell_type": "code",
   "execution_count": null,
   "metadata": {},
   "outputs": [],
   "source": []
  }
 ],
 "metadata": {
  "kernelspec": {
   "display_name": "Python 3",
   "language": "python",
   "name": "python3"
  },
  "language_info": {
   "codemirror_mode": {
    "name": "ipython",
    "version": 3
   },
   "file_extension": ".py",
   "mimetype": "text/x-python",
   "name": "python",
   "nbconvert_exporter": "python",
   "pygments_lexer": "ipython3",
   "version": "3.7.6"
  }
 },
 "nbformat": 4,
 "nbformat_minor": 4
}
