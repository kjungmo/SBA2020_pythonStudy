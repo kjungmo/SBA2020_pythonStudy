{
 "cells": [
  {
   "cell_type": "code",
   "execution_count": 1,
   "metadata": {},
   "outputs": [
    {
     "data": {
      "text/plain": [
       "16"
      ]
     },
     "execution_count": 1,
     "metadata": {},
     "output_type": "execute_result"
    }
   ],
   "source": [
    "a = 12\n",
    "b = 4\n",
    "a + b"
   ]
  },
  {
   "cell_type": "code",
   "execution_count": 2,
   "metadata": {},
   "outputs": [
    {
     "data": {
      "text/plain": [
       "-4.5"
      ]
     },
     "execution_count": 2,
     "metadata": {},
     "output_type": "execute_result"
    }
   ],
   "source": [
    "a = 20 \n",
    "b = 24.5\n",
    "a - b"
   ]
  },
  {
   "cell_type": "code",
   "execution_count": 3,
   "metadata": {},
   "outputs": [
    {
     "data": {
      "text/plain": [
       "1.6666666666666667"
      ]
     },
     "execution_count": 3,
     "metadata": {},
     "output_type": "execute_result"
    }
   ],
   "source": [
    "a = 20\n",
    "b = 4\n",
    "c = 3\n",
    "a//b/c"
   ]
  },
  {
   "cell_type": "code",
   "execution_count": 4,
   "metadata": {},
   "outputs": [
    {
     "data": {
      "text/plain": [
       "2"
      ]
     },
     "execution_count": 4,
     "metadata": {},
     "output_type": "execute_result"
    }
   ],
   "source": [
    "a = 10\n",
    "b = 5\n",
    "c = 8\n",
    "d = 3\n",
    "(a+b)%c//d"
   ]
  },
  {
   "cell_type": "code",
   "execution_count": 5,
   "metadata": {},
   "outputs": [
    {
     "data": {
      "text/plain": [
       "40.0"
      ]
     },
     "execution_count": 5,
     "metadata": {},
     "output_type": "execute_result"
    }
   ],
   "source": [
    "a = 10\n",
    "b = 5\n",
    "c = 8\n",
    "d = 3\n",
    "a**d/b//c\n",
    "10**3//5/5"
   ]
  },
  {
   "cell_type": "code",
   "execution_count": 6,
   "metadata": {},
   "outputs": [
    {
     "data": {
      "text/plain": [
       "13"
      ]
     },
     "execution_count": 6,
     "metadata": {},
     "output_type": "execute_result"
    }
   ],
   "source": [
    "a = 2\n",
    "b = 3\n",
    "c = 4\n",
    "d = 5\n",
    "a^b*d"
   ]
  },
  {
   "cell_type": "code",
   "execution_count": 7,
   "metadata": {},
   "outputs": [
    {
     "data": {
      "text/plain": [
       "5"
      ]
     },
     "execution_count": 7,
     "metadata": {},
     "output_type": "execute_result"
    }
   ],
   "source": [
    "b//b%c*d"
   ]
  },
  {
   "cell_type": "code",
   "execution_count": 8,
   "metadata": {},
   "outputs": [
    {
     "data": {
      "text/plain": [
       "6"
      ]
     },
     "execution_count": 8,
     "metadata": {},
     "output_type": "execute_result"
    }
   ],
   "source": [
    "a*(d+c)//b"
   ]
  },
  {
   "cell_type": "code",
   "execution_count": 9,
   "metadata": {},
   "outputs": [
    {
     "data": {
      "text/plain": [
       "4"
      ]
     },
     "execution_count": 9,
     "metadata": {},
     "output_type": "execute_result"
    }
   ],
   "source": [
    "4%4**2"
   ]
  },
  {
   "cell_type": "code",
   "execution_count": 10,
   "metadata": {},
   "outputs": [
    {
     "data": {
      "text/plain": [
       "3.0"
      ]
     },
     "execution_count": 10,
     "metadata": {},
     "output_type": "execute_result"
    }
   ],
   "source": [
    "a = 1\n",
    "b = 2\n",
    "c = 3 \n",
    "d = 4\n",
    "(a+b)**c/3//c%d"
   ]
  },
  {
   "cell_type": "markdown",
   "metadata": {},
   "source": [
    "###  파이썬 연산자 우선순위\n",
    "|우선순위|연산자|설명|\n",
    "|:----|--------:|----------:|\n",
    "|1|(값...), [값...], {키: 값...}, {값...}|튜플, 리스트, 딕셔너리, 세트 생성|\n",
    "|2|x[인덱스], x[인덱스:인덱스], x(인수...), x.속성| 리스트(튜플) 첨자, 슬라이싱, 함수 호출, 속성 참조|\n",
    "|3|await x | await 표현식|\n",
    "|4|\\** |거듭제곱|\n",
    "|5| +x, -x, ~x|단항 덧셈(양의 부호), 단항 뺄셈(음의 부호), 비트 NOT|\n",
    "|6| \\*, @, /, //, %|곱셈, 행렬 곱셈, 나눗셈, 버림 나눗셈, 나머지|\n",
    "|7| +, - | 덧셈, 뺄셈|\n",
    "|8| <<, >> | 비트 시프트|\n",
    "|9| & | 비트 AND|\n",
    "|10| ^ | 비트 XOR|\n",
    "|11| \\| |비트 OR |\n",
    "|12| in, not in, is, is not, <, <=, >, >=, !=, == |포함 연산자, 객체 비교 연산자, 비교 연산자|\n",
    "|13| not x| 논리 NOT|\n",
    "|14| and| 논리 AND|\n",
    "|15| or |논리 OR |\n",
    "|16| if else |조건부 표현식|\n",
    "|17| lambda | 람다 표현식|"
   ]
  },
  {
   "cell_type": "code",
   "execution_count": null,
   "metadata": {},
   "outputs": [],
   "source": []
  },
  {
   "cell_type": "code",
   "execution_count": 15,
   "metadata": {},
   "outputs": [
    {
     "name": "stdout",
     "output_type": "stream",
     "text": [
      "140710022259184 140710022259120\n",
      "140710022259184 140710022259184\n",
      "140710022259184 140710022259120\n"
     ]
    }
   ],
   "source": [
    "class FourCal():\n",
    "#     def __init__(self, first, second):\n",
    "#         self.first = first\n",
    "#         self.second = first\n",
    "\n",
    "    def setdata(self, first, second):\n",
    "        self.first = first\n",
    "        self.second = second\n",
    "        \n",
    "    def add(self):\n",
    "        return self.first + self.second\n",
    "        return result\n",
    "    \n",
    "a = FourCal()\n",
    "b = FourCal()\n",
    "a.setdata(4, 2)\n",
    "b.setdata(2, 4)\n",
    "\n",
    "\n",
    "print(id(a.first),id(b.first))\n",
    "print(id(a.first), id(b.second))\n",
    "print(id(b.second), id(a.second))"
   ]
  },
  {
   "cell_type": "markdown",
   "metadata": {},
   "source": [
    "### 객체 변수는 그 객체의 고유 값을 저장할 수 있는 공간이다. 객체 변수는 다른 객체들 영향을 받지 않고 독립적으로 그 값을 유지한다. \n",
    "\n",
    "  그래서 원래 예제에는 setdata안의 숫자 값들이 모두 다르게 설정되어 완전히 다른 id값을 유도한다. \n",
    "\n",
    "####\n",
    "파이썬은 변수의 메모리 할당 방식이 다른 언어들과 다르다?\n",
    "\n",
    "다른 언어들의 경우 변수를 선언하면 일단 변수의 메모리를 할당하고 그 다음 값을 넣는 방식\n",
    "but 파이썬은 변수가 만들어지고 그 변수는 값의 메모리를 참조하는 형태다\n",
    "\n",
    "같은 값을 갖는 변수는 같은 메모리를 참조하는 것이다.\n",
    "\n",
    "클래스내 멤버변수가 아니어도 마찬가지이다\n",
    "\n",
    "위의 예제가 그것을 보여주고 있다. 하지만 아래 예제를 본다면"
   ]
  },
  {
   "cell_type": "code",
   "execution_count": 16,
   "metadata": {},
   "outputs": [
    {
     "name": "stdout",
     "output_type": "stream",
     "text": [
      "False\n",
      "False\n",
      "2\n",
      "1521771270664\n",
      "1521737604744\n"
     ]
    }
   ],
   "source": [
    "class Symbol(object):\n",
    "    def __init__(self, value): # __로 시작해서 __로 끝나는 스페셜 펑션은 기능이 지정되어 있다\n",
    "        self.value = value\n",
    "\n",
    "\n",
    "if __name__ == \"__main__\":\n",
    "    x = Symbol(\"Py\") #객체가 메모리에 할당되어 사용될 때, 이 실체를 인스턴스라고 함\n",
    "    y = Symbol(\"Py\") # X의 인스턴스를 만듬. 객체 X를 메모리에 예화\n",
    "    \n",
    "    symbols = set()\n",
    "    symbols.add(x)\n",
    "    symbols.add(y) #서로 중복되지 않고 유니크\n",
    "    \n",
    "    print(x is y) #x 와 y는 싱글 객체의 별도 객체라 False라고나온다, 즉 두 변수 x, y의 참조가 다르므로 첫번째 결과 (x is y)는 False가 나온다\n",
    "    print(x == y) # x와 y의 value가 같지만 False가 나온다. \n",
    "    print( len(symbols)) # 2개로 나온다. set은 중복 항목이 없으므로 1이 나와야 할 것 같지만 2가 나왔다.\n",
    "    print( id(x))\n",
    "    print( id(y)) #서로 다른 메모리 영역에 예화되기 때문에 다르다.\n",
    "    # 같은 것으로 부터 객체 만들었어도 다른것이다!\n",
    "    \n",
    "    #id()는 그 객체의 번지를 보는것\n"
   ]
  },
  {
   "cell_type": "code",
   "execution_count": 17,
   "metadata": {},
   "outputs": [
    {
     "ename": "TypeError",
     "evalue": "unhashable type: 'Symbol'",
     "output_type": "error",
     "traceback": [
      "\u001b[1;31m---------------------------------------------------------------------------\u001b[0m",
      "\u001b[1;31mTypeError\u001b[0m                                 Traceback (most recent call last)",
      "\u001b[1;32m<ipython-input-17-14354c3a22d3>\u001b[0m in \u001b[0;36m<module>\u001b[1;34m\u001b[0m\n\u001b[0;32m     16\u001b[0m \u001b[1;33m\u001b[0m\u001b[0m\n\u001b[0;32m     17\u001b[0m     \u001b[0msymbols\u001b[0m \u001b[1;33m=\u001b[0m \u001b[0mset\u001b[0m\u001b[1;33m(\u001b[0m\u001b[1;33m)\u001b[0m\u001b[1;33m\u001b[0m\u001b[1;33m\u001b[0m\u001b[0m\n\u001b[1;32m---> 18\u001b[1;33m     \u001b[0msymbols\u001b[0m\u001b[1;33m.\u001b[0m\u001b[0madd\u001b[0m\u001b[1;33m(\u001b[0m\u001b[0mx\u001b[0m\u001b[1;33m)\u001b[0m\u001b[1;33m\u001b[0m\u001b[1;33m\u001b[0m\u001b[0m\n\u001b[0m\u001b[0;32m     19\u001b[0m     \u001b[0msymbols\u001b[0m\u001b[1;33m.\u001b[0m\u001b[0madd\u001b[0m\u001b[1;33m(\u001b[0m\u001b[0my\u001b[0m\u001b[1;33m)\u001b[0m \u001b[1;31m#서로 중복되지 않고 유니크\u001b[0m\u001b[1;33m\u001b[0m\u001b[1;33m\u001b[0m\u001b[0m\n\u001b[0;32m     20\u001b[0m \u001b[1;33m\u001b[0m\u001b[0m\n",
      "\u001b[1;31mTypeError\u001b[0m: unhashable type: 'Symbol'"
     ]
    }
   ],
   "source": [
    "\n",
    "class Symbol(object):\n",
    "    def __init__(self, value): # __로 시작해서 __로 끝나는 스페셜 펑션은 기능이 지정되어 있다\n",
    "        self.value = value\n",
    "    \n",
    "    # 객체의 비교를 담당하는 __eq__()메서드를 재정의\n",
    "    def __eq__(self, other): # 이퀄 함수. 오버로딩 할 때 연관, self와 other를 비교하고 싶단것\n",
    "        print(\"Symbol.__eq__()\")\n",
    "        if isinstance(self, other.__class__):\n",
    "            return self.value == other.value\n",
    "        else:\n",
    "            return NotImplemented\n",
    "\n",
    "if __name__ == \"__main__\":\n",
    "    x = Symbol(\"Py\") # X의 인스턴스를 만듬. 객체 X를 메모리에 예화\n",
    "    y = Symbol(\"Py\")\n",
    "    \n",
    "    symbols = set()\n",
    "    symbols.add(x)\n",
    "    symbols.add(y) #서로 중복되지 않고 유니크\n",
    "    \n",
    "    print(x is y) #x 와 y는 싱글 객체의 별도 객체라 False라고나온다\n",
    "    print(x == y) # 번지수도 달라서 False나옴\n",
    "    print( len(symbols)) # 2개로 나온다\n",
    "    print( id(x))\n",
    "    print( id(y)) #서로 다른 메모리 영역에 예화되기 때문에 다르다.\n",
    "    # 같은 것으로 부터 객체 만들었어도 다른것이다!\n",
    "    \n",
    "    #id()는 그 객체의 번지를 보는것\n",
    "    \n",
    "    # __eq__() 메서드를 재정의하자 Symbol 클래스가 해시 가능하지 않다고 에러가 발생한다. \n",
    "    # 객체가 해시 가능하지 않다는 것은 mutable 객체임을 의미하는데, set은 immutable하다. \n",
    "    # 에러를 고치기 위해 __hash__()메서드를 추가한다.\n",
    "    \n",
    "# TypeError: unhashable type: 'Symbol'\n",
    "#         -> 집합에 집어넣으려면 해시 가능한 객체여야 한다. \n",
    "#         오버로딩 할 거면 해시 가능해야 한다. \n",
    "#         이것을 해결하는 방식이 p137 하단에 나와있다\n",
    "#         즉 추가로 내부 해시를 호출해주는 것을 넣어준다"
   ]
  },
  {
   "cell_type": "code",
   "execution_count": 18,
   "metadata": {},
   "outputs": [
    {
     "name": "stdout",
     "output_type": "stream",
     "text": [
      "Symbol.__eq__()\n",
      "False\n",
      "Symbol.__eq__()\n",
      "True\n",
      "1\n",
      "1521771348168\n",
      "1521771299208\n"
     ]
    }
   ],
   "source": [
    "#에러를 고치기 위해 __hash__()메서드 추가\n",
    "\n",
    "class Symbol(object):\n",
    "    def __init__(self, value): \n",
    "        self.value = value\n",
    "    \n",
    "    def __eq__(self, other): \n",
    "        print(\"Symbol.__eq__()\")\n",
    "        if isinstance(self, other.__class__):\n",
    "            return self.value == other.value\n",
    "        else:\n",
    "            return NotImplemented\n",
    "        # 어떤 클래스의 연산자, 특히 수치형에서 작동하는 중위 연산자에서 \n",
    "        #지원하지 않는 연산이라고 알리기 위해 NotImplemented를 return합니다.\n",
    "        # NotImplemented는 키워드이자 값이다. 즉 None이나 True, False와 동등한\n",
    "        # 지위를 가진 것이다. NotImplemented는 구현되지 않음을 나타내는 것\n",
    "        \n",
    "    def __hash__(self):\n",
    "        return hash(self.value) #내가 가진 value의 해시를 리턴해주는 함수\n",
    "\n",
    "if __name__ == \"__main__\":\n",
    "    x = Symbol(\"Py\") \n",
    "    y = Symbol(\"Py\")\n",
    "    \n",
    "    symbols = set()\n",
    "    symbols.add(x)\n",
    "    symbols.add(y) \n",
    "    \n",
    "    print(x is y) #x 와 y는 싱글 객체의 별도 객체라 False라고나온다\n",
    "    print(x == y) # 객체를 비교하는게 아니라 value를 비교했기 때문에 True\n",
    "    print( len(symbols)) # 1개로 나온다는 것은 같은 것으로 봤기 때문에 \n",
    "                        #집합 길이가 1로 나온것. 중복이 배제되니까\n",
    "                        # value로 해시 만들었기 때문\n",
    "    print( id(x))\n",
    "    print( id(y)) #서로 다른 메모리 영역에 예화되기 때문에 다르다.\n",
    "    # 같은 것으로 부터 객체 만들었어도 다른것이다!\n",
    "    \n",
    "    #id()는 그 객체의 번지를 보는것\n",
    "    \n",
    "\\"
   ]
  },
  {
   "cell_type": "markdown",
   "metadata": {},
   "source": [
    "### 문자열의 메모리 할당 방식\n",
    "Java 에서는 문자열 객체가 생성될 때마다 새로운 주소를 할당하는 방식을 사용\n",
    "\n",
    "그러나 python의 경우 문자열 객체 생성 시 매번 새로운 객체를 만드는 대신 기존에 선언되어 있던 immutable객체를 사용합니다. 이는 CPython의 최적화 기법인 string interning에 의한 동작입니다. 따라서 둘 이상의 변수가 메모리의 동일한 문자열 객체를 가리킬 수 있고, 메모리를 절약하게 된다\n",
    "\n",
    "```python\n",
    "a = 'PlanB'\n",
    "b = 'PlanB'\n",
    "\n",
    "print(id(a), id(b))\n",
    "# 4346040648 4346040648\n",
    "\n",
    "print(id(a) == id(b))\n",
    "# True\n",
    "\n",
    "print(a is b)\n",
    "# True\n",
    "```\n",
    "\n",
    "* string interning 최적화에는 몇가지 규칙이 있다\n",
    "    - 길이가 0 또는 1인 문자열은 intern\n",
    "    - 컴파일 타임에만 intern : 동적으로 문자열을 만들어내는 경우( 포매팅 등)은 intern되지 않음\n",
    "    - 아스키 문자, 숫자 또는 언더스코어가 아닌 문자에 속해 있는 경우( !, ? 등)는 intern 되지 않는다 .\n",
    "    \n",
    "```python\n",
    "\n",
    "a = 'Plan_B'\n",
    "b = 'Plan_B'\n",
    "\n",
    "print(a is b)\n",
    "# True\n",
    "# ASCII 문자, 숫자, 언더스코어로 이루어진 문자열은 intern\n",
    "\n",
    "a = 'PlanB!'\n",
    "b = 'PlanB!'\n",
    "\n",
    "print(a is b)\n",
    "# False\n",
    "# ASCII 문자, 숫자, 언더스코어 외의 문자가 들어가면 intern되지 않음\n",
    "\n",
    "a = '!'\n",
    "b = '!'\n",
    "\n",
    "print(a is b)\n",
    "# True\n",
    "# 길이가 0 또는 1이면 intern\n",
    "```\n"
   ]
  },
  {
   "cell_type": "markdown",
   "metadata": {},
   "source": [
    "### 파이썬은 어떻게 변수에 대한 메모리 할당을 하는가?\n",
    "#### 바로 참조의 방식이다\n",
    "\n",
    "만약 num이라는 변수를 만들고 싶고, 그 변수의 값에 4를 넣고 싶다고 가정, num이라는 이름을 가진 메모리 공간에 4라는 데이터의 값이 담겨있는 형태일까?\n",
    "\n",
    "python의 경우 아니다. 메모리 공간 두개가 할당이 된다. 하나는 num이라는 이름을 가진 메모리공간, 하나는 4라는 데이터가 들어가있는 공간. 4라는 데이터를 가진 공간은 id값을 지니게 되고, 이 값은 고정된 값이다. num이라는 변수의 메모리 공간은 4라는 데이터의 id값을 저장한다. 하지만 나중에 읽을 때는 id값을 따라가서 나오는 4라는 값을 읽게 된다. \n",
    "\n",
    "따라서 파이썬의 모든 변수들은 이러한 id데이터를 저장하는 변수 타입을 가지고 있다. 그러므로 따로 변수 선언을 할 필요가 없다. \n",
    "\n",
    "변수에 어떤 값을 넣고 싶던간에 변수는 그 값에 해당하는 id값을 저장하기 때문.\n",
    "\n",
    "그런데 이런 id 값에 저장된 값은 데이터 이외에도 값의 타입, 참조 카운트 등을 가지고 있는 값이다. 만약 4라는 값이 특정 id를 지니고 있는데 여기에는 타입이 int라는 것과 값이 4다 라는 정보 외에도 여러 정보가 들어가있다. 그러므로 이 id에 해당하는 메모리 공간을 **객체** 라고 지정한다. 따라서 파이썬은 변수에 어떤 종류의 데이터를 저장하든 상관없이 변수 입장에서는 데이터를 직접 참조할 수 없고 이 객체를 참조하게 되는 것이다."
   ]
  },
  {
   "cell_type": "code",
   "execution_count": null,
   "metadata": {},
   "outputs": [],
   "source": []
  }
 ],
 "metadata": {
  "kernelspec": {
   "display_name": "Python 3",
   "language": "python",
   "name": "python3"
  },
  "language_info": {
   "codemirror_mode": {
    "name": "ipython",
    "version": 3
   },
   "file_extension": ".py",
   "mimetype": "text/x-python",
   "name": "python",
   "nbconvert_exporter": "python",
   "pygments_lexer": "ipython3",
   "version": "3.7.6"
  }
 },
 "nbformat": 4,
 "nbformat_minor": 4
}
