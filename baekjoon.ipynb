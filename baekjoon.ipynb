{
 "cells": [
  {
   "cell_type": "code",
   "execution_count": 5,
   "metadata": {},
   "outputs": [
    {
     "ename": "AttributeError",
     "evalue": "'Calculator' object has no attribute 'CalMul'",
     "output_type": "error",
     "traceback": [
      "\u001b[1;31m---------------------------------------------------------------------------\u001b[0m",
      "\u001b[1;31mAttributeError\u001b[0m                            Traceback (most recent call last)",
      "\u001b[1;32m<ipython-input-5-76ec7e51cad1>\u001b[0m in \u001b[0;36m<module>\u001b[1;34m\u001b[0m\n\u001b[0;32m     24\u001b[0m \u001b[1;33m\u001b[0m\u001b[0m\n\u001b[0;32m     25\u001b[0m \u001b[0ma\u001b[0m \u001b[1;33m=\u001b[0m \u001b[0mCalculator\u001b[0m\u001b[1;33m(\u001b[0m\u001b[1;33m)\u001b[0m\u001b[1;33m\u001b[0m\u001b[1;33m\u001b[0m\u001b[0m\n\u001b[1;32m---> 26\u001b[1;33m \u001b[0ma\u001b[0m\u001b[1;33m.\u001b[0m\u001b[0mCalMul\u001b[0m\u001b[1;33m(\u001b[0m\u001b[1;36m432\u001b[0m\u001b[1;33m,\u001b[0m \u001b[1;36m342\u001b[0m\u001b[1;33m)\u001b[0m\u001b[1;33m\u001b[0m\u001b[1;33m\u001b[0m\u001b[0m\n\u001b[0m",
      "\u001b[1;31mAttributeError\u001b[0m: 'Calculator' object has no attribute 'CalMul'"
     ]
    }
   ],
   "source": [
    "class Calculator():\n",
    "    def __init__(self, num1=0, num2=0):\n",
    "        self.num1 = num1\n",
    "        self.num2 = num2\n",
    "\n",
    "\n",
    "    \n",
    "        \n",
    "class CalAdd(Calculator):\n",
    "    result = 0\n",
    "    def Add(num1, num2):\n",
    "        result = num1, num2\n",
    "        return result\n",
    "    \n",
    "class CalMul(Calculator):\n",
    "    result = 0\n",
    "    def Mul(num1, num2):\n",
    "        str(num1, num2)\n",
    "        list = str(num1, num2)\n",
    "        print(list)\n",
    "        result = num1 * num2\n",
    "        return result\n",
    "\n",
    "    \n",
    "a = Calculator()\n",
    "a.CalMul(432, 342)"
   ]
  },
  {
   "cell_type": "code",
   "execution_count": 6,
   "metadata": {},
   "outputs": [
    {
     "data": {
      "text/plain": [
       "'4'"
      ]
     },
     "execution_count": 6,
     "metadata": {},
     "output_type": "execute_result"
    }
   ],
   "source": [
    "num1 = 472\n",
    "str1 = str(num1)\n",
    "str1[0]"
   ]
  },
  {
   "cell_type": "code",
   "execution_count": 7,
   "metadata": {},
   "outputs": [
    {
     "name": "stdout",
     "output_type": "stream",
     "text": [
      "2360\n",
      "3776\n",
      "1416\n",
      "181720\n"
     ]
    }
   ],
   "source": [
    "def Cal(num1, num2):\n",
    "#     n1 = num1\n",
    "#     n2 = num2\n",
    "#     str1 = str(num1)\n",
    "    str2 = str(num2)\n",
    "#     ni1 = int(str1[2])\n",
    "#     nl1 = list(str1)\n",
    "#     nl2 = list(str2)\n",
    "    print(int(str2[2]) * num1)\n",
    "    print(int(str2[1]) * num1)\n",
    "    print(int(str2[0]) * num1)\n",
    "    print(num1 * num2)\n",
    "Cal(472, 385)"
   ]
  },
  {
   "cell_type": "markdown",
   "metadata": {},
   "source": [
    "### https://www.acmicpc.net/problem/2588\n"
   ]
  },
  {
   "cell_type": "code",
   "execution_count": 8,
   "metadata": {},
   "outputs": [
    {
     "name": "stdout",
     "output_type": "stream",
     "text": [
      "2360\n",
      "3776\n",
      "1416\n",
      "181720\n"
     ]
    }
   ],
   "source": [
    "def Cal(num1, num2):\n",
    "    str2 = str(num2)\n",
    "    print(int(str2[2]) * num1)\n",
    "    print(int(str2[1]) * num1)\n",
    "    print(int(str2[0]) * num1)\n",
    "    print(num1 * num2)\n",
    "Cal(472, 385)"
   ]
  },
  {
   "cell_type": "markdown",
   "metadata": {},
   "source": [
    "### https://www.acmicpc.net/problem/4344"
   ]
  },
  {
   "cell_type": "markdown",
   "metadata": {},
   "source": [
    "\n",
    "값들이 들어오면 들어온 값들을 더한다. 더한 값에 대해서는 \n",
    "들어온 인자 개수대로 나눈다. \n",
    "그렇게 나뉘어진 평균값을 인자 각각 비교를 하고\n",
    "카운팅을 돌려서 카운팅 임시변수를 넣는다\n",
    "카운트 임시변수를 원래 들어온 값으로 나눠준 뒤\n",
    "나눈 값을 라운드 함수에 넣어서 값을 리턴한다\n",
    "리턴된 값의 경우 포매팅을 통해 퍼센트로 바꿔 출력한다."
   ]
  },
  {
   "cell_type": "code",
   "execution_count": 9,
   "metadata": {},
   "outputs": [
    {
     "name": "stdout",
     "output_type": "stream",
     "text": [
      "숫자입력: 5\n"
     ]
    },
    {
     "ename": "ValueError",
     "evalue": "not enough values to unpack (expected 2, got 1)",
     "output_type": "error",
     "traceback": [
      "\u001b[1;31m---------------------------------------------------------------------------\u001b[0m",
      "\u001b[1;31mValueError\u001b[0m                                Traceback (most recent call last)",
      "\u001b[1;32m<ipython-input-9-1a0384526b70>\u001b[0m in \u001b[0;36m<module>\u001b[1;34m\u001b[0m\n\u001b[1;32m----> 1\u001b[1;33m \u001b[0mnum1\u001b[0m\u001b[1;33m,\u001b[0m \u001b[0mnum2\u001b[0m\u001b[1;33m,\u001b[0m  \u001b[1;33m=\u001b[0m \u001b[0mmap\u001b[0m\u001b[1;33m(\u001b[0m\u001b[0mint\u001b[0m\u001b[1;33m,\u001b[0m \u001b[0minput\u001b[0m\u001b[1;33m(\u001b[0m\u001b[1;34m\"숫자입력: \"\u001b[0m\u001b[1;33m)\u001b[0m\u001b[1;33m.\u001b[0m\u001b[0msplit\u001b[0m\u001b[1;33m(\u001b[0m\u001b[1;33m)\u001b[0m\u001b[1;33m)\u001b[0m\u001b[1;33m\u001b[0m\u001b[1;33m\u001b[0m\u001b[0m\n\u001b[0m",
      "\u001b[1;31mValueError\u001b[0m: not enough values to unpack (expected 2, got 1)"
     ]
    }
   ],
   "source": [
    "num1, num2,  = map(int, input(\"숫자입력: \").split())\n"
   ]
  },
  {
   "cell_type": "code",
   "execution_count": 10,
   "metadata": {},
   "outputs": [
    {
     "name": "stdout",
     "output_type": "stream",
     "text": [
      "학생 몇 명?: 5\n",
      "\n"
     ]
    },
    {
     "ename": "ValueError",
     "evalue": "could not convert string to float: ",
     "output_type": "error",
     "traceback": [
      "\u001b[1;31m---------------------------------------------------------------------------\u001b[0m",
      "\u001b[1;31mValueError\u001b[0m                                Traceback (most recent call last)",
      "\u001b[1;32m<ipython-input-10-60c36f6c618a>\u001b[0m in \u001b[0;36m<module>\u001b[1;34m\u001b[0m\n\u001b[0;32m      8\u001b[0m         \u001b[0msum\u001b[0m \u001b[1;33m+=\u001b[0m \u001b[0ma\u001b[0m\u001b[1;33m\u001b[0m\u001b[1;33m\u001b[0m\u001b[0m\n\u001b[0;32m      9\u001b[0m \u001b[1;33m\u001b[0m\u001b[0m\n\u001b[1;32m---> 10\u001b[1;33m \u001b[0maverage\u001b[0m\u001b[1;33m(\u001b[0m\u001b[1;33m)\u001b[0m\u001b[1;33m\u001b[0m\u001b[1;33m\u001b[0m\u001b[0m\n\u001b[0m",
      "\u001b[1;32m<ipython-input-10-60c36f6c618a>\u001b[0m in \u001b[0;36maverage\u001b[1;34m()\u001b[0m\n\u001b[0;32m      5\u001b[0m \u001b[1;31m#     학생 별 점수 입력 받기\u001b[0m\u001b[1;33m\u001b[0m\u001b[1;33m\u001b[0m\u001b[1;33m\u001b[0m\u001b[0m\n\u001b[0;32m      6\u001b[0m     \u001b[1;32mfor\u001b[0m \u001b[0mi\u001b[0m \u001b[1;32min\u001b[0m \u001b[0mrange\u001b[0m\u001b[1;33m(\u001b[0m\u001b[1;36m1\u001b[0m\u001b[1;33m,\u001b[0m \u001b[0mnum\u001b[0m\u001b[1;33m+\u001b[0m\u001b[1;36m1\u001b[0m\u001b[1;33m)\u001b[0m\u001b[1;33m:\u001b[0m\u001b[1;33m\u001b[0m\u001b[1;33m\u001b[0m\u001b[0m\n\u001b[1;32m----> 7\u001b[1;33m         \u001b[0ma\u001b[0m \u001b[1;33m=\u001b[0m \u001b[0mfloat\u001b[0m\u001b[1;33m(\u001b[0m\u001b[0minput\u001b[0m\u001b[1;33m(\u001b[0m\u001b[1;33m)\u001b[0m\u001b[1;33m)\u001b[0m\u001b[1;33m\u001b[0m\u001b[1;33m\u001b[0m\u001b[0m\n\u001b[0m\u001b[0;32m      8\u001b[0m         \u001b[0msum\u001b[0m \u001b[1;33m+=\u001b[0m \u001b[0ma\u001b[0m\u001b[1;33m\u001b[0m\u001b[1;33m\u001b[0m\u001b[0m\n\u001b[0;32m      9\u001b[0m \u001b[1;33m\u001b[0m\u001b[0m\n",
      "\u001b[1;31mValueError\u001b[0m: could not convert string to float: "
     ]
    }
   ],
   "source": [
    "def average():\n",
    "    sum = 0\n",
    "    num = int(input(\"학생 몇 명?: \"))\n",
    "    \n",
    "#     학생 별 점수 입력 받기\n",
    "    for i in range(1, num+1):\n",
    "        a = float(input())\n",
    "        sum += a\n",
    "        \n",
    "average()"
   ]
  },
  {
   "cell_type": "code",
   "execution_count": 11,
   "metadata": {},
   "outputs": [
    {
     "name": "stdout",
     "output_type": "stream",
     "text": [
      "몇 개의 그룹을 형성할 것인가 :\n"
     ]
    },
    {
     "ename": "ValueError",
     "evalue": "invalid literal for int() with base 10: ''",
     "output_type": "error",
     "traceback": [
      "\u001b[1;31m---------------------------------------------------------------------------\u001b[0m",
      "\u001b[1;31mValueError\u001b[0m                                Traceback (most recent call last)",
      "\u001b[1;32m<ipython-input-11-a59d3a35b5c7>\u001b[0m in \u001b[0;36m<module>\u001b[1;34m\u001b[0m\n\u001b[0;32m      1\u001b[0m \u001b[1;31m# 먼저 인자를 입력받는 식을 세운다\u001b[0m\u001b[1;33m\u001b[0m\u001b[1;33m\u001b[0m\u001b[1;33m\u001b[0m\u001b[0m\n\u001b[0;32m      2\u001b[0m \u001b[1;33m\u001b[0m\u001b[0m\n\u001b[1;32m----> 3\u001b[1;33m \u001b[0mgroupNum\u001b[0m \u001b[1;33m=\u001b[0m \u001b[0mint\u001b[0m\u001b[1;33m(\u001b[0m\u001b[0minput\u001b[0m\u001b[1;33m(\u001b[0m\u001b[1;34m\"몇 개의 그룹을 형성할 것인가 :\"\u001b[0m\u001b[1;33m)\u001b[0m\u001b[1;33m)\u001b[0m\u001b[1;33m\u001b[0m\u001b[1;33m\u001b[0m\u001b[0m\n\u001b[0m\u001b[0;32m      4\u001b[0m \u001b[0mstudentNum\u001b[0m \u001b[1;33m=\u001b[0m \u001b[0mint\u001b[0m\u001b[1;33m(\u001b[0m\u001b[0minput\u001b[0m\u001b[1;33m(\u001b[0m\u001b[1;34m\"몇 명의 학생의 성적을 입력할 것인가 :\"\u001b[0m\u001b[1;33m)\u001b[0m\u001b[1;33m)\u001b[0m\u001b[1;33m\u001b[0m\u001b[1;33m\u001b[0m\u001b[0m\n",
      "\u001b[1;31mValueError\u001b[0m: invalid literal for int() with base 10: ''"
     ]
    }
   ],
   "source": [
    "# 먼저 인자를 입력받는 식을 세운다\n",
    "\n",
    "groupNum = int(input(\"몇 개의 그룹을 형성할 것인가 :\"))\n",
    "studentNum = int(input(\"몇 명의 학생의 성적을 입력할 것인가 :\"))"
   ]
  },
  {
   "cell_type": "code",
   "execution_count": 12,
   "metadata": {},
   "outputs": [
    {
     "name": "stdout",
     "output_type": "stream",
     "text": [
      "몇 개의 그룹을 형성할 것인가 :\n"
     ]
    },
    {
     "ename": "ValueError",
     "evalue": "invalid literal for int() with base 10: ''",
     "output_type": "error",
     "traceback": [
      "\u001b[1;31m---------------------------------------------------------------------------\u001b[0m",
      "\u001b[1;31mValueError\u001b[0m                                Traceback (most recent call last)",
      "\u001b[1;32m<ipython-input-12-78b68523ea86>\u001b[0m in \u001b[0;36m<module>\u001b[1;34m\u001b[0m\n\u001b[0;32m      3\u001b[0m \u001b[0mlistNumStu\u001b[0m \u001b[1;33m=\u001b[0m \u001b[1;33m[\u001b[0m\u001b[1;33m]\u001b[0m\u001b[1;33m\u001b[0m\u001b[1;33m\u001b[0m\u001b[0m\n\u001b[0;32m      4\u001b[0m \u001b[1;33m\u001b[0m\u001b[0m\n\u001b[1;32m----> 5\u001b[1;33m \u001b[0mgroupNum\u001b[0m \u001b[1;33m=\u001b[0m \u001b[0mint\u001b[0m\u001b[1;33m(\u001b[0m\u001b[0minput\u001b[0m\u001b[1;33m(\u001b[0m\u001b[1;34m\"몇 개의 그룹을 형성할 것인가 :\"\u001b[0m\u001b[1;33m)\u001b[0m\u001b[1;33m)\u001b[0m\u001b[1;33m\u001b[0m\u001b[1;33m\u001b[0m\u001b[0m\n\u001b[0m\u001b[0;32m      6\u001b[0m \u001b[0mlistNumGrp\u001b[0m\u001b[1;33m.\u001b[0m\u001b[0mappend\u001b[0m\u001b[1;33m(\u001b[0m\u001b[0mgroupNum\u001b[0m\u001b[1;33m)\u001b[0m\u001b[1;33m\u001b[0m\u001b[1;33m\u001b[0m\u001b[0m\n\u001b[0;32m      7\u001b[0m \u001b[1;33m\u001b[0m\u001b[0m\n",
      "\u001b[1;31mValueError\u001b[0m: invalid literal for int() with base 10: ''"
     ]
    }
   ],
   "source": [
    "# 입력받은 인자들을 List로 구성하는 코딩\n",
    "listNumGrp = []\n",
    "listNumStu = []\n",
    "\n",
    "groupNum = int(input(\"몇 개의 그룹을 형성할 것인가 :\"))\n",
    "listNumGrp.append(groupNum)\n",
    "\n",
    "studentNum = int(input(\"몇 명의 학생의 성적을 입력할 것인가 :\"))\n",
    "listNumStu.append(studentNum)\n",
    "# for i in range(listNumStu):\n",
    "    \n",
    "print(listNumGrp, listNumStu)"
   ]
  },
  {
   "cell_type": "code",
   "execution_count": null,
   "metadata": {},
   "outputs": [],
   "source": [
    "# 입력받은 인자들을 List로 구성하는 코딩\n",
    "listNumGrp = []\n",
    "listNumStu = []\n",
    "\n",
    "print(listNumGrp, listNumStu)\n",
    "\n",
    "groupNum = int(input(\"몇 개의 그룹을 형성할 것인가 :\"))\n",
    "listNumGrp.append(groupNum)\n",
    "\n",
    "studentNum = int(input(\"몇 명의 학생의 성적을 입력할 것인가 :\"))\n",
    "listNumStu.append(studentNum)\n",
    "\n",
    "listScoStu = []\n",
    "for i in range(groupNum):\n",
    "    \n",
    "    for j in range(studentNum):\n",
    "        stuScore = int(input(\"성적:\"))\n",
    "        listScoStu.append(stuScore)\n",
    "    print(listScoStu)\n",
    "\n",
    "listNumGrp.append(listNumStu)\n",
    "print(listNumGrp, listScoStu)"
   ]
  },
  {
   "cell_type": "code",
   "execution_count": 2,
   "metadata": {},
   "outputs": [
    {
     "ename": "NameError",
     "evalue": "name 'listNumStu' is not defined",
     "output_type": "error",
     "traceback": [
      "\u001b[1;31m---------------------------------------------------------------------------\u001b[0m",
      "\u001b[1;31mNameError\u001b[0m                                 Traceback (most recent call last)",
      "\u001b[1;32m<ipython-input-2-b25fbcf58076>\u001b[0m in \u001b[0;36m<module>\u001b[1;34m\u001b[0m\n\u001b[0;32m      3\u001b[0m \u001b[1;31m# listNumStu = []\u001b[0m\u001b[1;33m\u001b[0m\u001b[1;33m\u001b[0m\u001b[1;33m\u001b[0m\u001b[0m\n\u001b[0;32m      4\u001b[0m \u001b[1;33m\u001b[0m\u001b[0m\n\u001b[1;32m----> 5\u001b[1;33m \u001b[0mprint\u001b[0m\u001b[1;33m(\u001b[0m\u001b[0mlistNumGrp\u001b[0m\u001b[1;33m,\u001b[0m \u001b[0mlistNumStu\u001b[0m\u001b[1;33m)\u001b[0m\u001b[1;33m\u001b[0m\u001b[1;33m\u001b[0m\u001b[0m\n\u001b[0m\u001b[0;32m      6\u001b[0m \u001b[1;33m\u001b[0m\u001b[0m\n\u001b[0;32m      7\u001b[0m \u001b[0mgroupNum\u001b[0m \u001b[1;33m=\u001b[0m \u001b[0mint\u001b[0m\u001b[1;33m(\u001b[0m\u001b[0minput\u001b[0m\u001b[1;33m(\u001b[0m\u001b[1;34m\"몇 개의 그룹을 형성할 것인가 :\"\u001b[0m\u001b[1;33m)\u001b[0m\u001b[1;33m)\u001b[0m\u001b[1;33m\u001b[0m\u001b[1;33m\u001b[0m\u001b[0m\n",
      "\u001b[1;31mNameError\u001b[0m: name 'listNumStu' is not defined"
     ]
    }
   ],
   "source": [
    "# 입력받은 인자들을 List로 구성하는 코딩\n",
    "listNumGrp = []\n",
    "# listNumStu = []\n",
    "\n",
    "print(listNumGrp, listNumStu)\n",
    "\n",
    "groupNum = int(input(\"몇 개의 그룹을 형성할 것인가 :\"))\n",
    "listNumGrp.append(groupNum)\n",
    "\n",
    "# listScoStu = []\n",
    "for i in range(groupNum):\n",
    "    studentNum = int(input(\"몇 명의 학생의 성적을 입력할 것인가 :\"))\n",
    "#     listNumStu.append(studentNum)\n",
    "    listNumStu = []\n",
    "    for j in range(studentNum):\n",
    "        stuScore = int(input(\"성적:\"))\n",
    "        listScoStu.append(stuScore)\n",
    "        listNumStu.append(studentNum)\n",
    "    print(listScoStu)\n",
    "\n",
    "listNumGrp.append(listNumStu)\n",
    "print(listNumGrp, listScoStu)\n"
   ]
  },
  {
   "cell_type": "code",
   "execution_count": 3,
   "metadata": {},
   "outputs": [
    {
     "name": "stdout",
     "output_type": "stream",
     "text": [
      "몇 개의 그룹을 형성할 것인가 :s\n"
     ]
    },
    {
     "ename": "ValueError",
     "evalue": "invalid literal for int() with base 10: 's'",
     "output_type": "error",
     "traceback": [
      "\u001b[1;31m---------------------------------------------------------------------------\u001b[0m",
      "\u001b[1;31mValueError\u001b[0m                                Traceback (most recent call last)",
      "\u001b[1;32m<ipython-input-3-d7883065c52e>\u001b[0m in \u001b[0;36m<module>\u001b[1;34m\u001b[0m\n\u001b[0;32m      3\u001b[0m \u001b[0mlistNumStu\u001b[0m \u001b[1;33m=\u001b[0m \u001b[1;33m[\u001b[0m\u001b[1;33m]\u001b[0m\u001b[1;33m\u001b[0m\u001b[1;33m\u001b[0m\u001b[0m\n\u001b[0;32m      4\u001b[0m \u001b[1;33m\u001b[0m\u001b[0m\n\u001b[1;32m----> 5\u001b[1;33m \u001b[0mgroupNum\u001b[0m \u001b[1;33m=\u001b[0m \u001b[0mint\u001b[0m\u001b[1;33m(\u001b[0m\u001b[0minput\u001b[0m\u001b[1;33m(\u001b[0m\u001b[1;34m\"몇 개의 그룹을 형성할 것인가 :\"\u001b[0m\u001b[1;33m)\u001b[0m\u001b[1;33m)\u001b[0m\u001b[1;33m\u001b[0m\u001b[1;33m\u001b[0m\u001b[0m\n\u001b[0m\u001b[0;32m      6\u001b[0m \u001b[1;33m\u001b[0m\u001b[0m\n\u001b[0;32m      7\u001b[0m \u001b[0mlistNumGrp\u001b[0m\u001b[1;33m.\u001b[0m\u001b[0mappend\u001b[0m\u001b[1;33m(\u001b[0m\u001b[0mgroupNum\u001b[0m\u001b[1;33m)\u001b[0m\u001b[1;33m\u001b[0m\u001b[1;33m\u001b[0m\u001b[0m\n",
      "\u001b[1;31mValueError\u001b[0m: invalid literal for int() with base 10: 's'"
     ]
    }
   ],
   "source": [
    "# 입력받은 인자들을 List로 구성하는 코딩\n",
    "listNumGrp = []\n",
    "listNumStu = []\n",
    "\n",
    "groupNum = int(input(\"몇 개의 그룹을 형성할 것인가 :\"))\n",
    "\n",
    "listNumGrp.append(groupNum)\n",
    "\n",
    "avg = []\n",
    "for i in range(groupNum):\n",
    "    studentNum = int(input(\"몇 명의 학생의 성적을 입력할 것인가 :\"))\n",
    "    listNumStu.append(studentNum)\n",
    "    listScoStu = []\n",
    "    listNumStu.append(listScoStu)\n",
    "    sumScore = 0\n",
    "    avgScore = 0\n",
    "    for j in range(studentNum):\n",
    "        stuScore = int(input(\"성적:\"))\n",
    "        sumScore += stuScore\n",
    "        listScoStu.append(stuScore)\n",
    "    avgScore = sumScore/studentNum\n",
    "    avg.append(avgScore)\n",
    "count = 0\n",
    "countOverAvg = 0\n",
    "while avgScore < stuScore[i]:\n",
    "        countOverAvg += 1\n",
    "        count += 1\n",
    "\n",
    "\n",
    "# avg.append(avgScore)\n",
    "\n",
    "#         # listNumStu.append(listScoStu)\n",
    "# print(sumScore, avgScore)\n",
    "#\n",
    "# print(listNumStu)\n",
    "#\n",
    "# listNumGrp.append(listNumStu)\n",
    "print(listNumGrp, listNumStu, avg)\n"
   ]
  },
  {
   "cell_type": "code",
   "execution_count": 4,
   "metadata": {},
   "outputs": [
    {
     "data": {
      "text/plain": [
       "850"
      ]
     },
     "execution_count": 4,
     "metadata": {},
     "output_type": "execute_result"
    }
   ],
   "source": [
    "result = 50 *2 + 570+ 80 + 100\n",
    "result"
   ]
  },
  {
   "cell_type": "code",
   "execution_count": null,
   "metadata": {},
   "outputs": [],
   "source": [
    "result = 350 / 5\n",
    "result"
   ]
  },
  {
   "cell_type": "code",
   "execution_count": 2,
   "metadata": {},
   "outputs": [
    {
     "data": {
      "text/plain": [
       "0.38181818181818183"
      ]
     },
     "execution_count": 2,
     "metadata": {},
     "output_type": "execute_result"
    }
   ],
   "source": [
    "a = 21/55\n",
    "a"
   ]
  },
  {
   "cell_type": "code",
   "execution_count": 3,
   "metadata": {},
   "outputs": [
    {
     "ename": "SyntaxError",
     "evalue": "invalid syntax (<ipython-input-3-1f7ab6c5c314>, line 1)",
     "output_type": "error",
     "traceback": [
      "\u001b[1;36m  File \u001b[1;32m\"<ipython-input-3-1f7ab6c5c314>\"\u001b[1;36m, line \u001b[1;32m1\u001b[0m\n\u001b[1;33m    print(\"%d.% * 100\".format{%a})\u001b[0m\n\u001b[1;37m                             ^\u001b[0m\n\u001b[1;31mSyntaxError\u001b[0m\u001b[1;31m:\u001b[0m invalid syntax\n"
     ]
    }
   ],
   "source": [
    "print(\"%d.% * 100\".format{%a})"
   ]
  },
  {
   "cell_type": "code",
   "execution_count": 4,
   "metadata": {},
   "outputs": [
    {
     "data": {
      "text/plain": [
       "0.382"
      ]
     },
     "execution_count": 4,
     "metadata": {},
     "output_type": "execute_result"
    }
   ],
   "source": [
    "round(a, 3)"
   ]
  },
  {
   "cell_type": "code",
   "execution_count": null,
   "metadata": {},
   "outputs": [],
   "source": []
  }
 ],
 "metadata": {
  "kernelspec": {
   "display_name": "Python 3",
   "language": "python",
   "name": "python3"
  },
  "language_info": {
   "codemirror_mode": {
    "name": "ipython",
    "version": 3
   },
   "file_extension": ".py",
   "mimetype": "text/x-python",
   "name": "python",
   "nbconvert_exporter": "python",
   "pygments_lexer": "ipython3",
   "version": "3.7.6"
  }
 },
 "nbformat": 4,
 "nbformat_minor": 4
}
