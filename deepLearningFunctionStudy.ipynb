{
 "cells": [
  {
   "cell_type": "markdown",
   "metadata": {},
   "source": [
    "# sigmoid 함수\n",
    "\n",
    "## 1.로지스틱 회귀분석 또는 Neural Network의 이진 분류 마지막 레이어의 활성함수로 사용하는 시그모이드  \n",
    "\n",
    "### 1.1 데이터를 두 개의 그룹으로 분류하는 문제에서 가장 기본적인 방법은 로지스틱 회귀분석. linear regression과의 차이는 linear regression에서는 우리가 원하는 것이 예측값(실수)이기 때문에 종속변수의 범위가 실수이지만, logistic regression에서는 종속변수 y값이 0 또는 1을 갖는다. 그래서 주어진 데이터를 분류할 때 0인지 1인지 예측하는 모델을 만들어야 한다.\n",
    "\n",
    "    0을 실패, 1을 성공이라고 하자\n",
    "\n",
    "    logistic regression에서 데이터를 두 개의 그룹으로 분리하는데 선형함수(직선)을 사용하면 안되는 이유는 함숫값에 적절한 의미를 부여하기 어렵기 때문이다. 또한 선형함수의 기울기가 더 작아지거나 커져 새로운 데이터의 추가로 인해 기존에 분류되었던 것들을 분류하는 데에 실패하게 된다\n",
    "\n",
    "    그래서 logistic regression에서는 sigmoid와 같은 형태의 함수를 활성함수로 사용하여 데이터를 성공과 실패로 분류한다\n",
    "\n",
    "* 함수의 특징을 살펴보면 \n",
    "    - 성공과 실패를 구분하는 부분은 경사가 급하고 나머지 부분에서는 경사가 완만하다\n",
    "    - y = 1, y = 0의 두 평생선이 점근선이고 치역은 (0, 1)이다. \n",
    "    \n",
    "    이러한 특징을 만족하는 함수로 sigmoid함수를 활성함수로 사용한다. \n",
    "\n",
    "출처 https://icim.nims.re.kr/post/easyMath/64\n",
    "\n",
    "\n",
    "## 2.딥러닝 네트워크에서 사용하는 활성화 함수\n",
    "\n",
    "### 2.1 딥러닝에서 사용하는 활성화 함수\n",
    "\n",
    "    딥러닝 네트워크에서는 노드에 들어오는 값들에 대해 곧바로 다음 레이어로 전달하지 않고 주로 비선형 함수를 통과시킨 후 전달한다. 이때 사용하는 함수를 활성화 함수(Activation Function) 이라 부른다. "
   ]
  }
 ],
 "metadata": {
  "kernelspec": {
   "display_name": "Python 3",
   "language": "python",
   "name": "python3"
  },
  "language_info": {
   "codemirror_mode": {
    "name": "ipython",
    "version": 3
   },
   "file_extension": ".py",
   "mimetype": "text/x-python",
   "name": "python",
   "nbconvert_exporter": "python",
   "pygments_lexer": "ipython3",
   "version": "3.7.6"
  }
 },
 "nbformat": 4,
 "nbformat_minor": 4
}
