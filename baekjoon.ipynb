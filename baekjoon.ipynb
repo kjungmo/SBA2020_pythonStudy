{
 "cells": [
  {
   "cell_type": "code",
   "execution_count": 5,
   "metadata": {},
   "outputs": [
    {
     "ename": "AttributeError",
     "evalue": "'Calculator' object has no attribute 'CalMul'",
     "output_type": "error",
     "traceback": [
      "\u001b[1;31m---------------------------------------------------------------------------\u001b[0m",
      "\u001b[1;31mAttributeError\u001b[0m                            Traceback (most recent call last)",
      "\u001b[1;32m<ipython-input-5-76ec7e51cad1>\u001b[0m in \u001b[0;36m<module>\u001b[1;34m\u001b[0m\n\u001b[0;32m     24\u001b[0m \u001b[1;33m\u001b[0m\u001b[0m\n\u001b[0;32m     25\u001b[0m \u001b[0ma\u001b[0m \u001b[1;33m=\u001b[0m \u001b[0mCalculator\u001b[0m\u001b[1;33m(\u001b[0m\u001b[1;33m)\u001b[0m\u001b[1;33m\u001b[0m\u001b[1;33m\u001b[0m\u001b[0m\n\u001b[1;32m---> 26\u001b[1;33m \u001b[0ma\u001b[0m\u001b[1;33m.\u001b[0m\u001b[0mCalMul\u001b[0m\u001b[1;33m(\u001b[0m\u001b[1;36m432\u001b[0m\u001b[1;33m,\u001b[0m \u001b[1;36m342\u001b[0m\u001b[1;33m)\u001b[0m\u001b[1;33m\u001b[0m\u001b[1;33m\u001b[0m\u001b[0m\n\u001b[0m",
      "\u001b[1;31mAttributeError\u001b[0m: 'Calculator' object has no attribute 'CalMul'"
     ]
    }
   ],
   "source": [
    "class Calculator():\n",
    "    def __init__(self, num1=0, num2=0):\n",
    "        self.num1 = num1\n",
    "        self.num2 = num2\n",
    "\n",
    "\n",
    "    \n",
    "        \n",
    "class CalAdd(Calculator):\n",
    "    result = 0\n",
    "    def Add(num1, num2):\n",
    "        result = num1, num2\n",
    "        return result\n",
    "    \n",
    "class CalMul(Calculator):\n",
    "    result = 0\n",
    "    def Mul(num1, num2):\n",
    "        str(num1, num2)\n",
    "        list = str(num1, num2)\n",
    "        print(list)\n",
    "        result = num1 * num2\n",
    "        return result\n",
    "\n",
    "    \n",
    "a = Calculator()\n",
    "a.CalMul(432, 342)"
   ]
  },
  {
   "cell_type": "code",
   "execution_count": 6,
   "metadata": {},
   "outputs": [
    {
     "data": {
      "text/plain": [
       "'4'"
      ]
     },
     "execution_count": 6,
     "metadata": {},
     "output_type": "execute_result"
    }
   ],
   "source": [
    "num1 = 472\n",
    "str1 = str(num1)\n",
    "str1[0]"
   ]
  },
  {
   "cell_type": "code",
   "execution_count": 7,
   "metadata": {},
   "outputs": [
    {
     "name": "stdout",
     "output_type": "stream",
     "text": [
      "2360\n",
      "3776\n",
      "1416\n",
      "181720\n"
     ]
    }
   ],
   "source": [
    "def Cal(num1, num2):\n",
    "#     n1 = num1\n",
    "#     n2 = num2\n",
    "#     str1 = str(num1)\n",
    "    str2 = str(num2)\n",
    "#     ni1 = int(str1[2])\n",
    "#     nl1 = list(str1)\n",
    "#     nl2 = list(str2)\n",
    "    print(int(str2[2]) * num1)\n",
    "    print(int(str2[1]) * num1)\n",
    "    print(int(str2[0]) * num1)\n",
    "    print(num1 * num2)\n",
    "Cal(472, 385)"
   ]
  },
  {
   "cell_type": "markdown",
   "metadata": {},
   "source": [
    "### https://www.acmicpc.net/problem/2588\n"
   ]
  },
  {
   "cell_type": "code",
   "execution_count": 8,
   "metadata": {},
   "outputs": [
    {
     "name": "stdout",
     "output_type": "stream",
     "text": [
      "2360\n",
      "3776\n",
      "1416\n",
      "181720\n"
     ]
    }
   ],
   "source": [
    "def Cal(num1, num2):\n",
    "    str2 = str(num2)\n",
    "    print(int(str2[2]) * num1)\n",
    "    print(int(str2[1]) * num1)\n",
    "    print(int(str2[0]) * num1)\n",
    "    print(num1 * num2)\n",
    "Cal(472, 385)"
   ]
  },
  {
   "cell_type": "markdown",
   "metadata": {},
   "source": [
    "### https://www.acmicpc.net/problem/4344"
   ]
  },
  {
   "cell_type": "markdown",
   "metadata": {},
   "source": [
    "\n",
    "값들이 들어오면 들어온 값들을 더한다. 더한 값에 대해서는 \n",
    "들어온 인자 개수대로 나눈다. \n",
    "그렇게 나뉘어진 평균값을 인자 각각 비교를 하고\n",
    "카운팅을 돌려서 카운팅 임시변수를 넣는다\n",
    "카운트 임시변수를 원래 들어온 값으로 나눠준 뒤\n",
    "나눈 값을 라운드 함수에 넣어서 값을 리턴한다\n",
    "리턴된 값의 경우 포매팅을 통해 퍼센트로 바꿔 출력한다."
   ]
  },
  {
   "cell_type": "code",
   "execution_count": 9,
   "metadata": {},
   "outputs": [
    {
     "name": "stdout",
     "output_type": "stream",
     "text": [
      "숫자입력: 5\n"
     ]
    },
    {
     "ename": "ValueError",
     "evalue": "not enough values to unpack (expected 2, got 1)",
     "output_type": "error",
     "traceback": [
      "\u001b[1;31m---------------------------------------------------------------------------\u001b[0m",
      "\u001b[1;31mValueError\u001b[0m                                Traceback (most recent call last)",
      "\u001b[1;32m<ipython-input-9-1a0384526b70>\u001b[0m in \u001b[0;36m<module>\u001b[1;34m\u001b[0m\n\u001b[1;32m----> 1\u001b[1;33m \u001b[0mnum1\u001b[0m\u001b[1;33m,\u001b[0m \u001b[0mnum2\u001b[0m\u001b[1;33m,\u001b[0m  \u001b[1;33m=\u001b[0m \u001b[0mmap\u001b[0m\u001b[1;33m(\u001b[0m\u001b[0mint\u001b[0m\u001b[1;33m,\u001b[0m \u001b[0minput\u001b[0m\u001b[1;33m(\u001b[0m\u001b[1;34m\"숫자입력: \"\u001b[0m\u001b[1;33m)\u001b[0m\u001b[1;33m.\u001b[0m\u001b[0msplit\u001b[0m\u001b[1;33m(\u001b[0m\u001b[1;33m)\u001b[0m\u001b[1;33m)\u001b[0m\u001b[1;33m\u001b[0m\u001b[1;33m\u001b[0m\u001b[0m\n\u001b[0m",
      "\u001b[1;31mValueError\u001b[0m: not enough values to unpack (expected 2, got 1)"
     ]
    }
   ],
   "source": [
    "num1, num2,  = map(int, input(\"숫자입력: \").split())\n"
   ]
  },
  {
   "cell_type": "code",
   "execution_count": 10,
   "metadata": {},
   "outputs": [
    {
     "name": "stdout",
     "output_type": "stream",
     "text": [
      "학생 몇 명?: 5\n",
      "\n"
     ]
    },
    {
     "ename": "ValueError",
     "evalue": "could not convert string to float: ",
     "output_type": "error",
     "traceback": [
      "\u001b[1;31m---------------------------------------------------------------------------\u001b[0m",
      "\u001b[1;31mValueError\u001b[0m                                Traceback (most recent call last)",
      "\u001b[1;32m<ipython-input-10-60c36f6c618a>\u001b[0m in \u001b[0;36m<module>\u001b[1;34m\u001b[0m\n\u001b[0;32m      8\u001b[0m         \u001b[0msum\u001b[0m \u001b[1;33m+=\u001b[0m \u001b[0ma\u001b[0m\u001b[1;33m\u001b[0m\u001b[1;33m\u001b[0m\u001b[0m\n\u001b[0;32m      9\u001b[0m \u001b[1;33m\u001b[0m\u001b[0m\n\u001b[1;32m---> 10\u001b[1;33m \u001b[0maverage\u001b[0m\u001b[1;33m(\u001b[0m\u001b[1;33m)\u001b[0m\u001b[1;33m\u001b[0m\u001b[1;33m\u001b[0m\u001b[0m\n\u001b[0m",
      "\u001b[1;32m<ipython-input-10-60c36f6c618a>\u001b[0m in \u001b[0;36maverage\u001b[1;34m()\u001b[0m\n\u001b[0;32m      5\u001b[0m \u001b[1;31m#     학생 별 점수 입력 받기\u001b[0m\u001b[1;33m\u001b[0m\u001b[1;33m\u001b[0m\u001b[1;33m\u001b[0m\u001b[0m\n\u001b[0;32m      6\u001b[0m     \u001b[1;32mfor\u001b[0m \u001b[0mi\u001b[0m \u001b[1;32min\u001b[0m \u001b[0mrange\u001b[0m\u001b[1;33m(\u001b[0m\u001b[1;36m1\u001b[0m\u001b[1;33m,\u001b[0m \u001b[0mnum\u001b[0m\u001b[1;33m+\u001b[0m\u001b[1;36m1\u001b[0m\u001b[1;33m)\u001b[0m\u001b[1;33m:\u001b[0m\u001b[1;33m\u001b[0m\u001b[1;33m\u001b[0m\u001b[0m\n\u001b[1;32m----> 7\u001b[1;33m         \u001b[0ma\u001b[0m \u001b[1;33m=\u001b[0m \u001b[0mfloat\u001b[0m\u001b[1;33m(\u001b[0m\u001b[0minput\u001b[0m\u001b[1;33m(\u001b[0m\u001b[1;33m)\u001b[0m\u001b[1;33m)\u001b[0m\u001b[1;33m\u001b[0m\u001b[1;33m\u001b[0m\u001b[0m\n\u001b[0m\u001b[0;32m      8\u001b[0m         \u001b[0msum\u001b[0m \u001b[1;33m+=\u001b[0m \u001b[0ma\u001b[0m\u001b[1;33m\u001b[0m\u001b[1;33m\u001b[0m\u001b[0m\n\u001b[0;32m      9\u001b[0m \u001b[1;33m\u001b[0m\u001b[0m\n",
      "\u001b[1;31mValueError\u001b[0m: could not convert string to float: "
     ]
    }
   ],
   "source": [
    "def average():\n",
    "    sum = 0\n",
    "    num = int(input(\"학생 몇 명?: \"))\n",
    "    \n",
    "#     학생 별 점수 입력 받기\n",
    "    for i in range(1, num+1):\n",
    "        a = float(input())\n",
    "        sum += a\n",
    "        \n",
    "average()"
   ]
  },
  {
   "cell_type": "code",
   "execution_count": 11,
   "metadata": {},
   "outputs": [
    {
     "name": "stdout",
     "output_type": "stream",
     "text": [
      "몇 개의 그룹을 형성할 것인가 :\n"
     ]
    },
    {
     "ename": "ValueError",
     "evalue": "invalid literal for int() with base 10: ''",
     "output_type": "error",
     "traceback": [
      "\u001b[1;31m---------------------------------------------------------------------------\u001b[0m",
      "\u001b[1;31mValueError\u001b[0m                                Traceback (most recent call last)",
      "\u001b[1;32m<ipython-input-11-a59d3a35b5c7>\u001b[0m in \u001b[0;36m<module>\u001b[1;34m\u001b[0m\n\u001b[0;32m      1\u001b[0m \u001b[1;31m# 먼저 인자를 입력받는 식을 세운다\u001b[0m\u001b[1;33m\u001b[0m\u001b[1;33m\u001b[0m\u001b[1;33m\u001b[0m\u001b[0m\n\u001b[0;32m      2\u001b[0m \u001b[1;33m\u001b[0m\u001b[0m\n\u001b[1;32m----> 3\u001b[1;33m \u001b[0mgroupNum\u001b[0m \u001b[1;33m=\u001b[0m \u001b[0mint\u001b[0m\u001b[1;33m(\u001b[0m\u001b[0minput\u001b[0m\u001b[1;33m(\u001b[0m\u001b[1;34m\"몇 개의 그룹을 형성할 것인가 :\"\u001b[0m\u001b[1;33m)\u001b[0m\u001b[1;33m)\u001b[0m\u001b[1;33m\u001b[0m\u001b[1;33m\u001b[0m\u001b[0m\n\u001b[0m\u001b[0;32m      4\u001b[0m \u001b[0mstudentNum\u001b[0m \u001b[1;33m=\u001b[0m \u001b[0mint\u001b[0m\u001b[1;33m(\u001b[0m\u001b[0minput\u001b[0m\u001b[1;33m(\u001b[0m\u001b[1;34m\"몇 명의 학생의 성적을 입력할 것인가 :\"\u001b[0m\u001b[1;33m)\u001b[0m\u001b[1;33m)\u001b[0m\u001b[1;33m\u001b[0m\u001b[1;33m\u001b[0m\u001b[0m\n",
      "\u001b[1;31mValueError\u001b[0m: invalid literal for int() with base 10: ''"
     ]
    }
   ],
   "source": [
    "# 먼저 인자를 입력받는 식을 세운다\n",
    "\n",
    "groupNum = int(input(\"몇 개의 그룹을 형성할 것인가 :\"))\n",
    "studentNum = int(input(\"몇 명의 학생의 성적을 입력할 것인가 :\"))"
   ]
  },
  {
   "cell_type": "code",
   "execution_count": 12,
   "metadata": {},
   "outputs": [
    {
     "name": "stdout",
     "output_type": "stream",
     "text": [
      "몇 개의 그룹을 형성할 것인가 :\n"
     ]
    },
    {
     "ename": "ValueError",
     "evalue": "invalid literal for int() with base 10: ''",
     "output_type": "error",
     "traceback": [
      "\u001b[1;31m---------------------------------------------------------------------------\u001b[0m",
      "\u001b[1;31mValueError\u001b[0m                                Traceback (most recent call last)",
      "\u001b[1;32m<ipython-input-12-78b68523ea86>\u001b[0m in \u001b[0;36m<module>\u001b[1;34m\u001b[0m\n\u001b[0;32m      3\u001b[0m \u001b[0mlistNumStu\u001b[0m \u001b[1;33m=\u001b[0m \u001b[1;33m[\u001b[0m\u001b[1;33m]\u001b[0m\u001b[1;33m\u001b[0m\u001b[1;33m\u001b[0m\u001b[0m\n\u001b[0;32m      4\u001b[0m \u001b[1;33m\u001b[0m\u001b[0m\n\u001b[1;32m----> 5\u001b[1;33m \u001b[0mgroupNum\u001b[0m \u001b[1;33m=\u001b[0m \u001b[0mint\u001b[0m\u001b[1;33m(\u001b[0m\u001b[0minput\u001b[0m\u001b[1;33m(\u001b[0m\u001b[1;34m\"몇 개의 그룹을 형성할 것인가 :\"\u001b[0m\u001b[1;33m)\u001b[0m\u001b[1;33m)\u001b[0m\u001b[1;33m\u001b[0m\u001b[1;33m\u001b[0m\u001b[0m\n\u001b[0m\u001b[0;32m      6\u001b[0m \u001b[0mlistNumGrp\u001b[0m\u001b[1;33m.\u001b[0m\u001b[0mappend\u001b[0m\u001b[1;33m(\u001b[0m\u001b[0mgroupNum\u001b[0m\u001b[1;33m)\u001b[0m\u001b[1;33m\u001b[0m\u001b[1;33m\u001b[0m\u001b[0m\n\u001b[0;32m      7\u001b[0m \u001b[1;33m\u001b[0m\u001b[0m\n",
      "\u001b[1;31mValueError\u001b[0m: invalid literal for int() with base 10: ''"
     ]
    }
   ],
   "source": [
    "# 입력받은 인자들을 List로 구성하는 코딩\n",
    "listNumGrp = []\n",
    "listNumStu = []\n",
    "\n",
    "groupNum = int(input(\"몇 개의 그룹을 형성할 것인가 :\"))\n",
    "listNumGrp.append(groupNum)\n",
    "\n",
    "studentNum = int(input(\"몇 명의 학생의 성적을 입력할 것인가 :\"))\n",
    "listNumStu.append(studentNum)\n",
    "# for i in range(listNumStu):\n",
    "    \n",
    "print(listNumGrp, listNumStu)"
   ]
  },
  {
   "cell_type": "code",
   "execution_count": null,
   "metadata": {},
   "outputs": [],
   "source": [
    "# 입력받은 인자들을 List로 구성하는 코딩\n",
    "listNumGrp = []\n",
    "listNumStu = []\n",
    "\n",
    "print(listNumGrp, listNumStu)\n",
    "\n",
    "groupNum = int(input(\"몇 개의 그룹을 형성할 것인가 :\"))\n",
    "listNumGrp.append(groupNum)\n",
    "\n",
    "studentNum = int(input(\"몇 명의 학생의 성적을 입력할 것인가 :\"))\n",
    "listNumStu.append(studentNum)\n",
    "\n",
    "listScoStu = []\n",
    "for i in range(groupNum):\n",
    "    \n",
    "    for j in range(studentNum):\n",
    "        stuScore = int(input(\"성적:\"))\n",
    "        listScoStu.append(stuScore)\n",
    "    print(listScoStu)\n",
    "\n",
    "listNumGrp.append(listNumStu)\n",
    "print(listNumGrp, listScoStu)"
   ]
  },
  {
   "cell_type": "code",
   "execution_count": 2,
   "metadata": {},
   "outputs": [
    {
     "ename": "NameError",
     "evalue": "name 'listNumStu' is not defined",
     "output_type": "error",
     "traceback": [
      "\u001b[1;31m---------------------------------------------------------------------------\u001b[0m",
      "\u001b[1;31mNameError\u001b[0m                                 Traceback (most recent call last)",
      "\u001b[1;32m<ipython-input-2-b25fbcf58076>\u001b[0m in \u001b[0;36m<module>\u001b[1;34m\u001b[0m\n\u001b[0;32m      3\u001b[0m \u001b[1;31m# listNumStu = []\u001b[0m\u001b[1;33m\u001b[0m\u001b[1;33m\u001b[0m\u001b[1;33m\u001b[0m\u001b[0m\n\u001b[0;32m      4\u001b[0m \u001b[1;33m\u001b[0m\u001b[0m\n\u001b[1;32m----> 5\u001b[1;33m \u001b[0mprint\u001b[0m\u001b[1;33m(\u001b[0m\u001b[0mlistNumGrp\u001b[0m\u001b[1;33m,\u001b[0m \u001b[0mlistNumStu\u001b[0m\u001b[1;33m)\u001b[0m\u001b[1;33m\u001b[0m\u001b[1;33m\u001b[0m\u001b[0m\n\u001b[0m\u001b[0;32m      6\u001b[0m \u001b[1;33m\u001b[0m\u001b[0m\n\u001b[0;32m      7\u001b[0m \u001b[0mgroupNum\u001b[0m \u001b[1;33m=\u001b[0m \u001b[0mint\u001b[0m\u001b[1;33m(\u001b[0m\u001b[0minput\u001b[0m\u001b[1;33m(\u001b[0m\u001b[1;34m\"몇 개의 그룹을 형성할 것인가 :\"\u001b[0m\u001b[1;33m)\u001b[0m\u001b[1;33m)\u001b[0m\u001b[1;33m\u001b[0m\u001b[1;33m\u001b[0m\u001b[0m\n",
      "\u001b[1;31mNameError\u001b[0m: name 'listNumStu' is not defined"
     ]
    }
   ],
   "source": [
    "# 입력받은 인자들을 List로 구성하는 코딩\n",
    "listNumGrp = []\n",
    "# listNumStu = []\n",
    "\n",
    "print(listNumGrp, listNumStu)\n",
    "\n",
    "groupNum = int(input(\"몇 개의 그룹을 형성할 것인가 :\"))\n",
    "listNumGrp.append(groupNum)\n",
    "\n",
    "# listScoStu = []\n",
    "for i in range(groupNum):\n",
    "    studentNum = int(input(\"몇 명의 학생의 성적을 입력할 것인가 :\"))\n",
    "#     listNumStu.append(studentNum)\n",
    "    listNumStu = []\n",
    "    for j in range(studentNum):\n",
    "        stuScore = int(input(\"성적:\"))\n",
    "        listScoStu.append(stuScore)\n",
    "        listNumStu.append(studentNum)\n",
    "    print(listScoStu)\n",
    "\n",
    "listNumGrp.append(listNumStu)\n",
    "print(listNumGrp, listScoStu)\n"
   ]
  },
  {
   "cell_type": "code",
   "execution_count": 3,
   "metadata": {},
   "outputs": [
    {
     "name": "stdout",
     "output_type": "stream",
     "text": [
      "몇 개의 그룹을 형성할 것인가 :s\n"
     ]
    },
    {
     "ename": "ValueError",
     "evalue": "invalid literal for int() with base 10: 's'",
     "output_type": "error",
     "traceback": [
      "\u001b[1;31m---------------------------------------------------------------------------\u001b[0m",
      "\u001b[1;31mValueError\u001b[0m                                Traceback (most recent call last)",
      "\u001b[1;32m<ipython-input-3-d7883065c52e>\u001b[0m in \u001b[0;36m<module>\u001b[1;34m\u001b[0m\n\u001b[0;32m      3\u001b[0m \u001b[0mlistNumStu\u001b[0m \u001b[1;33m=\u001b[0m \u001b[1;33m[\u001b[0m\u001b[1;33m]\u001b[0m\u001b[1;33m\u001b[0m\u001b[1;33m\u001b[0m\u001b[0m\n\u001b[0;32m      4\u001b[0m \u001b[1;33m\u001b[0m\u001b[0m\n\u001b[1;32m----> 5\u001b[1;33m \u001b[0mgroupNum\u001b[0m \u001b[1;33m=\u001b[0m \u001b[0mint\u001b[0m\u001b[1;33m(\u001b[0m\u001b[0minput\u001b[0m\u001b[1;33m(\u001b[0m\u001b[1;34m\"몇 개의 그룹을 형성할 것인가 :\"\u001b[0m\u001b[1;33m)\u001b[0m\u001b[1;33m)\u001b[0m\u001b[1;33m\u001b[0m\u001b[1;33m\u001b[0m\u001b[0m\n\u001b[0m\u001b[0;32m      6\u001b[0m \u001b[1;33m\u001b[0m\u001b[0m\n\u001b[0;32m      7\u001b[0m \u001b[0mlistNumGrp\u001b[0m\u001b[1;33m.\u001b[0m\u001b[0mappend\u001b[0m\u001b[1;33m(\u001b[0m\u001b[0mgroupNum\u001b[0m\u001b[1;33m)\u001b[0m\u001b[1;33m\u001b[0m\u001b[1;33m\u001b[0m\u001b[0m\n",
      "\u001b[1;31mValueError\u001b[0m: invalid literal for int() with base 10: 's'"
     ]
    }
   ],
   "source": [
    "# 입력받은 인자들을 List로 구성하는 코딩\n",
    "listNumGrp = []\n",
    "listNumStu = []\n",
    "\n",
    "groupNum = int(input(\"몇 개의 그룹을 형성할 것인가 :\"))\n",
    "\n",
    "listNumGrp.append(groupNum)\n",
    "\n",
    "avg = []\n",
    "for i in range(groupNum):\n",
    "    studentNum = int(input(\"몇 명의 학생의 성적을 입력할 것인가 :\"))\n",
    "    listNumStu.append(studentNum)\n",
    "    listScoStu = []\n",
    "    listNumStu.append(listScoStu)\n",
    "    sumScore = 0\n",
    "    avgScore = 0\n",
    "    for j in range(studentNum):\n",
    "        stuScore = int(input(\"성적:\"))\n",
    "        sumScore += stuScore\n",
    "        listScoStu.append(stuScore)\n",
    "    avgScore = sumScore/studentNum\n",
    "    avg.append(avgScore)\n",
    "count = 0\n",
    "countOverAvg = 0\n",
    "while avgScore < stuScore[i]:\n",
    "        countOverAvg += 1\n",
    "        count += 1\n",
    "\n",
    "\n",
    "# avg.append(avgScore)\n",
    "\n",
    "#         # listNumStu.append(listScoStu)\n",
    "# print(sumScore, avgScore)\n",
    "#\n",
    "# print(listNumStu)\n",
    "#\n",
    "# listNumGrp.append(listNumStu)\n",
    "print(listNumGrp, listNumStu, avg)\n"
   ]
  },
  {
   "cell_type": "code",
   "execution_count": 4,
   "metadata": {},
   "outputs": [
    {
     "data": {
      "text/plain": [
       "850"
      ]
     },
     "execution_count": 4,
     "metadata": {},
     "output_type": "execute_result"
    }
   ],
   "source": [
    "result = 50 *2 + 570+ 80 + 100\n",
    "result"
   ]
  },
  {
   "cell_type": "code",
   "execution_count": null,
   "metadata": {},
   "outputs": [],
   "source": [
    "result = 350 / 5\n",
    "result"
   ]
  },
  {
   "cell_type": "code",
   "execution_count": 2,
   "metadata": {},
   "outputs": [
    {
     "data": {
      "text/plain": [
       "0.38181818181818183"
      ]
     },
     "execution_count": 2,
     "metadata": {},
     "output_type": "execute_result"
    }
   ],
   "source": [
    "a = 21/55\n",
    "a"
   ]
  },
  {
   "cell_type": "code",
   "execution_count": 3,
   "metadata": {},
   "outputs": [
    {
     "ename": "SyntaxError",
     "evalue": "invalid syntax (<ipython-input-3-1f7ab6c5c314>, line 1)",
     "output_type": "error",
     "traceback": [
      "\u001b[1;36m  File \u001b[1;32m\"<ipython-input-3-1f7ab6c5c314>\"\u001b[1;36m, line \u001b[1;32m1\u001b[0m\n\u001b[1;33m    print(\"%d.% * 100\".format{%a})\u001b[0m\n\u001b[1;37m                             ^\u001b[0m\n\u001b[1;31mSyntaxError\u001b[0m\u001b[1;31m:\u001b[0m invalid syntax\n"
     ]
    }
   ],
   "source": [
    "print(\"%d.% * 100\".format{%a})"
   ]
  },
  {
   "cell_type": "code",
   "execution_count": 4,
   "metadata": {},
   "outputs": [
    {
     "data": {
      "text/plain": [
       "0.382"
      ]
     },
     "execution_count": 4,
     "metadata": {},
     "output_type": "execute_result"
    }
   ],
   "source": [
    "round(a, 3)"
   ]
  },
  {
   "cell_type": "markdown",
   "metadata": {},
   "source": [
    "# https://www.acmicpc.net/problem/2740 \n",
    "## 행렬 곱셈"
   ]
  },
  {
   "cell_type": "code",
   "execution_count": 20,
   "metadata": {
    "scrolled": true
   },
   "outputs": [
    {
     "name": "stdout",
     "output_type": "stream",
     "text": [
      "\\    /\\\n",
      " )  ( ')\n",
      "(  /  )\n",
      " \\(__)|\n"
     ]
    }
   ],
   "source": [
    "print('\\\\    /\\\\')\n",
    "print(\" )  ( ')\")\n",
    "print(\"(  /  )\")\n",
    "print(\" \\\\(__)|\")"
   ]
  },
  {
   "cell_type": "code",
   "execution_count": 21,
   "metadata": {},
   "outputs": [
    {
     "name": "stdout",
     "output_type": "stream",
     "text": [
      "1\n",
      "2\n",
      "3\n"
     ]
    }
   ],
   "source": [
    "a = int(input())\n",
    "b = int(input())\n",
    "\n",
    "print(a + b)"
   ]
  },
  {
   "cell_type": "code",
   "execution_count": 28,
   "metadata": {},
   "outputs": [
    {
     "name": "stdout",
     "output_type": "stream",
     "text": [
      "1 2\n",
      "3\n"
     ]
    }
   ],
   "source": [
    "a, b = input().split()\n",
    "a= int(a)\n",
    "b= int(b)\n",
    "print(a+b)"
   ]
  },
  {
   "cell_type": "code",
   "execution_count": 41,
   "metadata": {},
   "outputs": [
    {
     "name": "stdout",
     "output_type": "stream",
     "text": [
      "df \n"
     ]
    },
    {
     "ename": "ValueError",
     "evalue": "not enough values to unpack (expected 2, got 1)",
     "output_type": "error",
     "traceback": [
      "\u001b[1;31m---------------------------------------------------------------------------\u001b[0m",
      "\u001b[1;31mValueError\u001b[0m                                Traceback (most recent call last)",
      "\u001b[1;32m<ipython-input-41-fb077ea455fa>\u001b[0m in \u001b[0;36m<module>\u001b[1;34m\u001b[0m\n\u001b[1;32m----> 1\u001b[1;33m \u001b[0ma\u001b[0m\u001b[1;33m,\u001b[0m \u001b[0mb\u001b[0m \u001b[1;33m=\u001b[0m \u001b[0minput\u001b[0m\u001b[1;33m(\u001b[0m\u001b[1;33m)\u001b[0m\u001b[1;33m.\u001b[0m\u001b[0msplit\u001b[0m\u001b[1;33m(\u001b[0m\u001b[1;34m'\\n'\u001b[0m\u001b[1;33m)\u001b[0m\u001b[1;33m\u001b[0m\u001b[1;33m\u001b[0m\u001b[0m\n\u001b[0m",
      "\u001b[1;31mValueError\u001b[0m: not enough values to unpack (expected 2, got 1)"
     ]
    }
   ],
   "source": [
    "a, b = input().split('\\n')\n"
   ]
  },
  {
   "cell_type": "markdown",
   "metadata": {},
   "source": [
    "### 22.6.1  input().split()과 map\n",
    "\n",
    "지금까지 input().split()으로 값을 여러 개 입력받고 정수, 실수로 변환할 때도 map을 사용했었죠? 사실 input().split()의 결과가 문자열 리스트라서 map을 사용할 수 있었습니다.\n",
    "\n",
    "다음과 같이 input().split()을 사용한 뒤에 변수 한 개에 저장해보면 리스트인지 확인할 수 있습니다.\n",
    "\n",
    "```python\n",
    ">>> a = input().split()\n",
    "10 20 (입력)\n",
    ">>> a\n",
    "['10', '20']\n",
    "```\n",
    "\n",
    "10 20을 입력하면 ['10', '20']처럼 문자열 두 개가 들어있는 리스트가 만들어집니다.\n",
    "\n",
    "이제 map을 사용해서 정수로 변환해봅니다.\n",
    "\n",
    "```python\n",
    ">>> a = map(int, input().split())\n",
    "10 20 (입력)\n",
    ">>> a\n",
    "<map object at 0x03DFB0D0>\n",
    ">>> list(a)\n",
    "[10, 20]\n",
    "```\n",
    "\n",
    "다시 10 20을 입력하면 맵 객체(map object)가 만들어집니다. 이 상태로는 안에 들어있는 값을 볼 수 없으므로 list를 사용해서 리스트로 출력했습니다. 리스트를 보면 [10, 20]처럼 정수 두 개가 들어있습니다.\n",
    "\n",
    "이 리스트 [10, 20]을 변수 두 개에 저장하면 지금까지 사용한 a, b = map(int, input().split())와 같은 동작이 됩니다.\n",
    "\n",
    "```python\n",
    ">>> a, b = [10, 20]\n",
    ">>> a\n",
    "10\n",
    ">>> b\n",
    "20\n",
    "```\n",
    "\n",
    "사실 map이 반환하는 맵 객체는 이터레이터라서 변수 여러 개에 저장하는 언패킹(unpacking)이 가능합니다. 그래서 a, b = map(int, input().split())처럼 list를 생략한 것입니다('39.2 이터레이터 만들기' 참조).\n",
    "\n",
    "a, b = map(int, input().split())을 풀어서 쓰면 다음과 같은 코드가 됩니다.\n",
    "\n",
    "```python\n",
    "x = input().split()    # input().split()의 결과는 문자열 리스트\n",
    "m = map(int, x)        # 리스트의 요소를 int로 변환, 결과는 맵 객체\n",
    "a, b = m               # 맵 객체는 변수 여러 개에 저장할 수 있음\n",
    "```\n",
    "\n",
    "내용이 조금 어렵죠? 이처럼 파이썬은 여러 가지 함수와 객체를 조합해서 결과를 만들어냅니다. 파이썬을 처음 접할 때는 이해하기가 쉽지 않은 부분이니 이런 것도 있구나 하고 넘어가도 됩니다."
   ]
  },
  {
   "cell_type": "code",
   "execution_count": null,
   "metadata": {},
   "outputs": [],
   "source": [
    "# a 는 n 개의 행과 m 개의 열을 가지고 있고\n",
    "# b 는 m개의 열과 k개의 행을 가지고 있다\n",
    "\n",
    "\n",
    "n, m = map(int,input().split())\n",
    "# m = int(input(\"a의 열의 개수: \"))\n",
    "# k = int(input(\"b의 열의 개수: \"))\n",
    "a = []\n",
    "for i in range(n):\n",
    "    a.append(list(map(int, input().split())))\n",
    "print(a)\n",
    "\n",
    "m, k = map(int, input().split())\n",
    "b = []\n",
    "for i in range(m):\n",
    "    b.append(list(map(int, input().split())))\n",
    "print(b)\n",
    "\n",
    "def mulmatrix(a, b):\n",
    "\n",
    "    c = [len(b[0])*[0] for i in range(len(a))]\n",
    "\n",
    "    for i in range(len(c)):\n",
    "        for j in range(len(c[i])):\n",
    "             for k in range(len(a[i])):\n",
    "                 c[i][j] += a[i][k]*b[k][j]\n",
    "    return print(c)\n",
    "\n",
    "mulmatrix(a,b)\n"
   ]
  },
  {
   "cell_type": "markdown",
   "metadata": {},
   "source": [
    "[문제]\n",
    "\n",
    "* 행렬의 곱셈은, 곱하려는 두 행렬의 어떤 행과 열을 기준으로, 좌측의 행렬은 해당되는 행, 우측의 행렬은 해당되는 열을 순서대로 곱한 값을 더한 값이 들어갑니다. 행렬을 곱하기 위해선 좌측 행렬의 열의 개수와 우측 행렬의 행의 개수가 같아야 합니다. 곱할 수 있는 두 행렬 A,B가 주어질 때, 행렬을 곱한 값을 출력하는 productMatrix 함수를 완성해 보세요.\n",
    "\n",
    "\n",
    "\n",
    "[풀이]\n",
    "\n",
    "```python\n",
    "\n",
    "def productMatrix(mat1, mat2):\n",
    "    matR = [ len(mat2[0])*[0] for i in range (len(mat1)) ]\n",
    " \n",
    "    for i in range (len(matR) ):\n",
    "        for j in range ( len(matR[i]) ):\n",
    "            for k in range ( len(mat1[i] ) ):\n",
    "                matR[i][j] += mat1[i][k]*mat2[k][j]\n",
    " \n",
    "    return matR\n",
    " \n",
    " \n",
    "# 아래는 테스트로 출력해 보기 위한 코드입니다.\n",
    "a = [ [ 1, 2 ], [ 2, 3 ]];\n",
    "b = [[ 3, 4], [5, 6]];\n",
    "print(\"결과 : {}\".format(productMatrix(a,b)));\n",
    "\n",
    "```\n",
    "\n",
    "\n",
    "\n",
    "\n",
    "\n",
    "\n",
    "\n",
    "\n",
    "\n",
    "* 파이썬을 이용한 추가적인 행렬의 연산\n",
    "\n",
    "\n",
    "\n",
    "- Practice1 : 행렬 출력\n",
    "\n",
    "```python\n",
    "def print_matrix(mat):\n",
    "    for i in range (len(mat)):\n",
    "        print mat[i]\n",
    "        \n",
    "```\n",
    "\n",
    "- input값은 리스트로 받는다. 그리고 리스트 크기 만큼 출력을 한다.\n",
    "\n",
    "\n",
    "\n",
    "\n",
    "\n",
    "-  Practice2 : 행렬의 스칼라곱\n",
    "```python\n",
    "    def scalar_product(mat, mulNum):\n",
    "        for i in range (len(mat)):\n",
    "            for j in range(len(mat[i])):\n",
    "                mat[i][j] = mulNum * mat[i][j]\n",
    "        return mat\n",
    "```\n",
    "- 행을 위한 for문(2번째 줄), 열을 위한 for문(3번째 줄)을 이용하여 2중 반복문을 만들고, 각각의 요소에 입력받은 mulNum을 받았다.\n",
    "\n",
    "\n",
    "\n",
    "- Practice3 : 행렬의 곱\n",
    "```python\n",
    "def matrix_multiplication(mat1, mat2):\n",
    "    \n",
    "    matR = [ len(mat2[0])*[0] for i in range (len(mat1)) ]\n",
    "    \n",
    "    for i in range (len(matR) ):\n",
    "        for j in range ( len(matR[i]) ):\n",
    "            for k in range ( len(mat1[i] ) ):\n",
    "                matR[i][j] += mat1[i][k]*mat2[k][j]\n",
    "                \n",
    "    return matR\n",
    "```\n",
    "- 행렬 곱은 제일 까다롭다. 첫 번째 행렬 mat1이 mxn의 size이고, 두 번째 행렬 mat2가 n*l 사이즈 라고 가정을 하면, 두 행렬의 곱 결과 사이즈는 m*l이다. \n",
    "\n",
    "\n",
    "\n",
    "\n",
    "\n",
    "- Practice1~3 파이썬을 이용한 행렬의 연산 테스트 코드\n",
    "\n",
    "```python\n",
    "\n",
    "mat1 = [[1,3,5], [2,4,8]]\n",
    "mat2 = [[3,2], [1, 4], [5,0]]\n",
    " \n",
    "print \"[Practice 1]\"\n",
    "print_matrix(mat1)\n",
    "print_matrix(mat2)\n",
    " \n",
    "print \"[Practice2]\"\n",
    "print scalar_product(mat1, 10)\n",
    "print_matrix(scalar_product(mat2, 5))\n",
    " \n",
    "mat1 = [[1,3,5], [2,4,8]]\n",
    "mat2 = [[3,2], [1, 4], [5,0]]\n",
    " \n",
    "print \"[Practice3]\"\n",
    "print_matrix(matrix_multiplication(mat1, mat2))\n",
    "print_matrix(matrix_multiplication(mat2, mat1))\n",
    "\n",
    "```"
   ]
  },
  {
   "cell_type": "markdown",
   "metadata": {},
   "source": [
    "# https://www.acmicpc.net/problem/2775\n",
    "## 부녀회장이 될테야"
   ]
  },
  {
   "cell_type": "code",
   "execution_count": null,
   "metadata": {},
   "outputs": [],
   "source": [
    "T = int(input(\"Test case: \"))\n",
    "k = int(input(\"floor: \"))\n",
    "n = int(input(\"house: \"))\n"
   ]
  },
  {
   "cell_type": "code",
   "execution_count": 1,
   "metadata": {},
   "outputs": [
    {
     "name": "stdout",
     "output_type": "stream",
     "text": [
      "[1, 2, 3, 4, 5, 6, 7, 8, 9, 10, 11, 12, 13, 14]\n",
      "[1, 2, 3, 4, 5, 6, 7, 8, 9, 10, 11, 12, 13, 14]\n"
     ]
    },
    {
     "ename": "NameError",
     "evalue": "name 'n' is not defined",
     "output_type": "error",
     "traceback": [
      "\u001b[1;31m---------------------------------------------------------------------------\u001b[0m",
      "\u001b[1;31mNameError\u001b[0m                                 Traceback (most recent call last)",
      "\u001b[1;32m<ipython-input-1-0cde9c223a34>\u001b[0m in \u001b[0;36m<module>\u001b[1;34m\u001b[0m\n\u001b[0;32m     19\u001b[0m \u001b[0mprint\u001b[0m\u001b[1;33m(\u001b[0m\u001b[0mnum0\u001b[0m\u001b[1;33m)\u001b[0m\u001b[1;33m\u001b[0m\u001b[1;33m\u001b[0m\u001b[0m\n\u001b[0;32m     20\u001b[0m \u001b[1;33m\u001b[0m\u001b[0m\n\u001b[1;32m---> 21\u001b[1;33m \u001b[0mnum1\u001b[0m \u001b[1;33m=\u001b[0m \u001b[1;33m[\u001b[0m\u001b[0mn\u001b[0m\u001b[1;33m+\u001b[0m\u001b[1;36m1\u001b[0m\u001b[1;33m]\u001b[0m\u001b[1;33m\u001b[0m\u001b[1;33m\u001b[0m\u001b[0m\n\u001b[0m",
      "\u001b[1;31mNameError\u001b[0m: name 'n' is not defined"
     ]
    }
   ],
   "source": [
    "# T = int(input(\"Test case: \"))\n",
    "#\n",
    "#\n",
    "# for i in range(T):\n",
    "#     k = int(input(\"floor: \"))\n",
    "#     n = int(input(\"house: \"))\n",
    "\n",
    "list1 = []\n",
    "for i in range(1,15):\n",
    "    list1.append(i)\n",
    "print(list1)\n",
    "\n",
    "# list2 = []\n",
    "# for i in range(1,15):\n",
    "#     for j in range(1, 15):\n",
    "#         list2.append(list1[i-1][i-1])\n",
    "\n",
    "num0 = [n+1 for n in range(14)]\n",
    "print(num0)\n",
    "\n",
    "num1 = [n+1]"
   ]
  },
  {
   "cell_type": "markdown",
   "metadata": {},
   "source": [
    "0층은 1 2 3 4 5 6 7 8 9 10 11 12 13 14\n",
    "1층은 1 1+2 1+2+3 1+2+3+4 ...\n",
    "2층은 1 1+1+2 1+1+2+1+2+3 1+1+2+1+2+3+1+2+3+4"
   ]
  },
  {
   "cell_type": "markdown",
   "metadata": {},
   "source": [
    "# https://www.acmicpc.net/problem/18236"
   ]
  },
  {
   "cell_type": "markdown",
   "metadata": {},
   "source": [
    "# 행렬 곱셈 순서 2\n",
    "\n",
    "### 연쇄 행렬 최소 곱셈 알고리즘\n",
    "\n",
    "두개 이상의 행렬을 곱할 때 최소 곱셈 횟수를 구한다\n",
    "\n",
    "행렬의 곱셈은 아래와 같이 결합법칙이 성립한다\n",
    "A*(B\\*C) = (A\\*B)\\*C\n",
    "그러나, 행렬을 곱하는 순서에 따라 곱하는 횟수가 달라진다.\n",
    "\n",
    "즉 연쇄행렬 최소곱셈 알고리즘은 행렬곱셈에서 곱하는 순서에 따라 곱셈의 횟수가 달라지는데 이러한 법칙을 이용하여 최소로 곱하는 횟수를 구하는 것이다.\n",
    "\n",
    "연쇄행렬 최소곱셈 알고리즘은 아래와 같이 재귀관계식을 세울 수 있다.\n",
    "\n",
    "M[i]"
   ]
  },
  {
   "cell_type": "code",
   "execution_count": null,
   "metadata": {},
   "outputs": [],
   "source": [
    "#행렬의 개수\n",
    "numMatrix = int(input())\n",
    "\n",
    "listNum = for i in range[numMatrix]\n",
    "# n = int(input())\n",
    "\n",
    "\n",
    "# m = int(input())\n",
    "# k = int(input())\n"
   ]
  },
  {
   "cell_type": "code",
   "execution_count": null,
   "metadata": {},
   "outputs": [],
   "source": [
    "#행렬의 개수\n",
    "numMatrix = int(input())\n",
    "listNum = []\n",
    "matrix2d = 2\n",
    "matrixList = []\n",
    "n = k = 0\n",
    "for _ in range(numMatrix):\n",
    "\n",
    "    n, k = input().split()\n",
    "    n = int(n)\n",
    "    k = int(k)\n",
    "    listNum.append([n, k])\n",
    "\n",
    "print(listNum)\n",
    "for i in range(len(listNum)):\n",
    "    if listNum[i+1][i+1] == listNum[i+1][i]:\n",
    "        print(\"di\")\n",
    "\n",
    "\n",
    "# for _ in range(len(listNum)):\n",
    "#\n",
    "#     if listNum[n][k] == listNum[n+1]:\n",
    "#         print(\"오류입니다\")\n",
    "#\n",
    "#     # for n in range(matrix2d):\n",
    "#     #     for k in range():\n",
    "#     #         int(input())\n",
    "\n",
    "\n",
    "# n = int(input())\n",
    "\n",
    "\n",
    "# m = int(input())\n",
    "# k = int(input())\n"
   ]
  }
 ],
 "metadata": {
  "kernelspec": {
   "display_name": "Python 3",
   "language": "python",
   "name": "python3"
  },
  "language_info": {
   "codemirror_mode": {
    "name": "ipython",
    "version": 3
   },
   "file_extension": ".py",
   "mimetype": "text/x-python",
   "name": "python",
   "nbconvert_exporter": "python",
   "pygments_lexer": "ipython3",
   "version": "3.7.6"
  }
 },
 "nbformat": 4,
 "nbformat_minor": 4
}
